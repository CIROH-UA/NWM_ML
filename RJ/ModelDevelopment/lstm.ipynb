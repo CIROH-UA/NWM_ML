{
 "cells": [
  {
   "cell_type": "code",
   "execution_count": 1,
   "id": "initial_id",
   "metadata": {
    "ExecuteTime": {
     "end_time": "2023-11-09T04:18:40.666198Z",
     "start_time": "2023-11-09T04:18:40.658467Z"
    },
    "tags": []
   },
   "outputs": [
    {
     "name": "stdout",
     "output_type": "stream",
     "text": [
      "Device: cuda\n"
     ]
    }
   ],
   "source": [
    "\n",
    "\n",
    "# basic packages\n",
    "import pandas as pd\n",
    "import os\n",
    "import warnings\n",
    "warnings.filterwarnings(\"ignore\")\n",
    "\n",
    "# deep learning packages\n",
    "import torch\n",
    "import torch.nn as nn\n",
    "\n",
    "#Shared/Utility scripts\n",
    "import sys\n",
    "sys.path.insert(0, '../..')  #sys allows for the .ipynb file to connect to the shared folder files\n",
    "from shared_scripts import Simple_Eval, dataloader, lstm_model\n",
    "\n",
    "#load access key\n",
    "HOME = os.path.expanduser('~')"
   ]
  },
  {
   "cell_type": "code",
   "execution_count": 2,
   "id": "25c69fa6",
   "metadata": {},
   "outputs": [
    {
     "name": "stdout",
     "output_type": "stream",
     "text": [
      "df needs no processing\n"
     ]
    },
    {
     "data": {
      "text/html": [
       "<div>\n",
       "<style scoped>\n",
       "    .dataframe tbody tr th:only-of-type {\n",
       "        vertical-align: middle;\n",
       "    }\n",
       "\n",
       "    .dataframe tbody tr th {\n",
       "        vertical-align: top;\n",
       "    }\n",
       "\n",
       "    .dataframe thead th {\n",
       "        text-align: right;\n",
       "    }\n",
       "</style>\n",
       "<table border=\"1\" class=\"dataframe\">\n",
       "  <thead>\n",
       "    <tr style=\"text-align: right;\">\n",
       "      <th></th>\n",
       "      <th>station_id</th>\n",
       "      <th>Lat</th>\n",
       "      <th>Long</th>\n",
       "      <th>Drainage_area_mi2</th>\n",
       "      <th>Mean_Basin_Elev_ft</th>\n",
       "      <th>Perc_Forest</th>\n",
       "      <th>Perc_Develop</th>\n",
       "      <th>Perc_Imperv</th>\n",
       "      <th>Perc_Herbace</th>\n",
       "      <th>Perc_Slop_30</th>\n",
       "      <th>...</th>\n",
       "      <th>datetime</th>\n",
       "      <th>flow_cfs</th>\n",
       "      <th>s1</th>\n",
       "      <th>s2</th>\n",
       "      <th>storage</th>\n",
       "      <th>swe</th>\n",
       "      <th>NWM_flow</th>\n",
       "      <th>DOY</th>\n",
       "      <th>tempe(F)</th>\n",
       "      <th>precip(mm)</th>\n",
       "    </tr>\n",
       "  </thead>\n",
       "  <tbody>\n",
       "    <tr>\n",
       "      <th>0</th>\n",
       "      <td>10011500</td>\n",
       "      <td>40.965225</td>\n",
       "      <td>-110.853508</td>\n",
       "      <td>174.0</td>\n",
       "      <td>9720.0</td>\n",
       "      <td>67.7</td>\n",
       "      <td>1.2</td>\n",
       "      <td>0.12</td>\n",
       "      <td>2.94</td>\n",
       "      <td>27.2</td>\n",
       "      <td>...</td>\n",
       "      <td>2010-10-28</td>\n",
       "      <td>78.55521</td>\n",
       "      <td>-0.891007</td>\n",
       "      <td>-0.453991</td>\n",
       "      <td>0.0</td>\n",
       "      <td>1.2</td>\n",
       "      <td>55.0</td>\n",
       "      <td>301</td>\n",
       "      <td>39.239582</td>\n",
       "      <td>0.0</td>\n",
       "    </tr>\n",
       "    <tr>\n",
       "      <th>1</th>\n",
       "      <td>10011500</td>\n",
       "      <td>40.965225</td>\n",
       "      <td>-110.853508</td>\n",
       "      <td>174.0</td>\n",
       "      <td>9720.0</td>\n",
       "      <td>67.7</td>\n",
       "      <td>1.2</td>\n",
       "      <td>0.12</td>\n",
       "      <td>2.94</td>\n",
       "      <td>27.2</td>\n",
       "      <td>...</td>\n",
       "      <td>2010-10-29</td>\n",
       "      <td>98.61146</td>\n",
       "      <td>-0.891007</td>\n",
       "      <td>-0.453991</td>\n",
       "      <td>0.0</td>\n",
       "      <td>1.2</td>\n",
       "      <td>55.0</td>\n",
       "      <td>302</td>\n",
       "      <td>45.068712</td>\n",
       "      <td>0.0</td>\n",
       "    </tr>\n",
       "    <tr>\n",
       "      <th>2</th>\n",
       "      <td>10011500</td>\n",
       "      <td>40.965225</td>\n",
       "      <td>-110.853508</td>\n",
       "      <td>174.0</td>\n",
       "      <td>9720.0</td>\n",
       "      <td>67.7</td>\n",
       "      <td>1.2</td>\n",
       "      <td>0.12</td>\n",
       "      <td>2.94</td>\n",
       "      <td>27.2</td>\n",
       "      <td>...</td>\n",
       "      <td>2010-10-30</td>\n",
       "      <td>97.60208</td>\n",
       "      <td>-0.891007</td>\n",
       "      <td>-0.453991</td>\n",
       "      <td>0.0</td>\n",
       "      <td>1.1</td>\n",
       "      <td>54.0</td>\n",
       "      <td>303</td>\n",
       "      <td>50.945891</td>\n",
       "      <td>0.0</td>\n",
       "    </tr>\n",
       "    <tr>\n",
       "      <th>3</th>\n",
       "      <td>10011500</td>\n",
       "      <td>40.965225</td>\n",
       "      <td>-110.853508</td>\n",
       "      <td>174.0</td>\n",
       "      <td>9720.0</td>\n",
       "      <td>67.7</td>\n",
       "      <td>1.2</td>\n",
       "      <td>0.12</td>\n",
       "      <td>2.94</td>\n",
       "      <td>27.2</td>\n",
       "      <td>...</td>\n",
       "      <td>2010-10-31</td>\n",
       "      <td>99.33125</td>\n",
       "      <td>-0.891007</td>\n",
       "      <td>-0.453991</td>\n",
       "      <td>0.0</td>\n",
       "      <td>1.2</td>\n",
       "      <td>54.0</td>\n",
       "      <td>304</td>\n",
       "      <td>45.480097</td>\n",
       "      <td>0.0</td>\n",
       "    </tr>\n",
       "    <tr>\n",
       "      <th>4</th>\n",
       "      <td>10011500</td>\n",
       "      <td>40.965225</td>\n",
       "      <td>-110.853508</td>\n",
       "      <td>174.0</td>\n",
       "      <td>9720.0</td>\n",
       "      <td>67.7</td>\n",
       "      <td>1.2</td>\n",
       "      <td>0.12</td>\n",
       "      <td>2.94</td>\n",
       "      <td>27.2</td>\n",
       "      <td>...</td>\n",
       "      <td>2010-11-01</td>\n",
       "      <td>95.76354</td>\n",
       "      <td>-0.998630</td>\n",
       "      <td>0.052336</td>\n",
       "      <td>0.0</td>\n",
       "      <td>1.2</td>\n",
       "      <td>54.0</td>\n",
       "      <td>305</td>\n",
       "      <td>46.656777</td>\n",
       "      <td>0.0</td>\n",
       "    </tr>\n",
       "  </tbody>\n",
       "</table>\n",
       "<p>5 rows × 21 columns</p>\n",
       "</div>"
      ],
      "text/plain": [
       "  station_id        Lat        Long  Drainage_area_mi2  Mean_Basin_Elev_ft  \\\n",
       "0   10011500  40.965225 -110.853508              174.0              9720.0   \n",
       "1   10011500  40.965225 -110.853508              174.0              9720.0   \n",
       "2   10011500  40.965225 -110.853508              174.0              9720.0   \n",
       "3   10011500  40.965225 -110.853508              174.0              9720.0   \n",
       "4   10011500  40.965225 -110.853508              174.0              9720.0   \n",
       "\n",
       "   Perc_Forest  Perc_Develop  Perc_Imperv  Perc_Herbace  Perc_Slop_30  ...  \\\n",
       "0         67.7           1.2         0.12          2.94          27.2  ...   \n",
       "1         67.7           1.2         0.12          2.94          27.2  ...   \n",
       "2         67.7           1.2         0.12          2.94          27.2  ...   \n",
       "3         67.7           1.2         0.12          2.94          27.2  ...   \n",
       "4         67.7           1.2         0.12          2.94          27.2  ...   \n",
       "\n",
       "     datetime  flow_cfs        s1        s2  storage  swe  NWM_flow  DOY  \\\n",
       "0  2010-10-28  78.55521 -0.891007 -0.453991      0.0  1.2      55.0  301   \n",
       "1  2010-10-29  98.61146 -0.891007 -0.453991      0.0  1.2      55.0  302   \n",
       "2  2010-10-30  97.60208 -0.891007 -0.453991      0.0  1.1      54.0  303   \n",
       "3  2010-10-31  99.33125 -0.891007 -0.453991      0.0  1.2      54.0  304   \n",
       "4  2010-11-01  95.76354 -0.998630  0.052336      0.0  1.2      54.0  305   \n",
       "\n",
       "    tempe(F)  precip(mm)  \n",
       "0  39.239582         0.0  \n",
       "1  45.068712         0.0  \n",
       "2  50.945891         0.0  \n",
       "3  45.480097         0.0  \n",
       "4  46.656777         0.0  \n",
       "\n",
       "[5 rows x 21 columns]"
      ]
     },
     "execution_count": 2,
     "metadata": {},
     "output_type": "execute_result"
    }
   ],
   "source": [
    "modelname = 'LSTM'\n",
    "model_path = f\"{HOME}/NWM_ML/Model/{modelname}\"\n",
    "\n",
    "cfsday_AFday = 1.983\n",
    "\n",
    "#input columns\n",
    "input_columns =[\n",
    "                # 'Lat', \n",
    "                # 'Long', \n",
    "                'Drainage_area_mi2', \n",
    "                'Mean_Basin_Elev_ft',       \n",
    "                'Perc_Forest', \n",
    "                # 'Perc_Develop', \n",
    "                # 'Perc_Imperv', \n",
    "                # 'Perc_Herbace',       \n",
    "                # 'Perc_Slop_30', \n",
    "                'Mean_Ann_Precip_in', \n",
    "                's1',       \n",
    "                's2', \n",
    "                'storage', \n",
    "                'swe', \n",
    "                'NWM_flow', \n",
    "                'DOY', \n",
    "                'tempe(F)', \n",
    "                'precip(mm)'\n",
    "                ]\n",
    "\n",
    "target = ['flow_cfs']\n",
    "\n",
    "\n",
    "test_years = [2019, 2020]                 \n",
    "\n",
    "#load data\n",
    "datapath = f\"{HOME}/NWM_ML/Data/input\"\n",
    "trainingfile = \"final_input.parquet\"\n",
    "# trainingfile = \"GSL_NWM_NWIS_dataset.parquet\"\n",
    "\n",
    "df, StreamStats = dataloader.get_ML_Data(datapath, trainingfile)\n",
    "df.head()"
   ]
  },
  {
   "cell_type": "markdown",
   "id": "9d99bfd6",
   "metadata": {},
   "source": [
    "## Dataprocessing\n",
    "* Editing the features based on the feature importance\n",
    "* Remove headwater stations from dataset\n",
    "* make sure dates are in datetime format\n",
    "\n",
    "### Data scaling\n",
    "\n",
    "Scaling your data for ML is done for all types of applications and helps the model converge faster. \n",
    "If there is no scaling performed, the model will essentially be forced to think certain features are more important than others, rather than being able to learn those things.\n",
    "\n",
    "There are different ways you can scale the data, such as min-max or standard scaling; both of which are applicable for your model. \n",
    "If you know you have a fixed min and max in your dataset (e.g. images), you can use min-max scaling to fix your input and/or output data to be between 0 and 1.\n",
    "\n",
    "For other applications where you do not have fixed bounds, standard scaling is useful.\n",
    "This gives all of your features zero-mean and unit variance. Therefore, the distributions of inputs and/or outputs are the same, and the model can treat them as such.\n",
    "\n",
    "The scaling for your outputs is important in defining the activation function for the output layer.\n",
    "If you have min-max scaled outputs, you can use sigmoid, because it bounds the outputs to between 0 and 1. \n",
    "If you are using standard scaling for the outputs, you would want to be sure you use a linear activation function, because technically standard-scaled outputs are not bounded. \n",
    "The choice of output activation is important, and knowledge of how your outputs are scaled is important in determining which activation to use."
   ]
  },
  {
   "cell_type": "code",
   "execution_count": 3,
   "id": "320dfdfc",
   "metadata": {},
   "outputs": [
    {
     "data": {
      "text/html": [
       "<div>\n",
       "<style scoped>\n",
       "    .dataframe tbody tr th:only-of-type {\n",
       "        vertical-align: middle;\n",
       "    }\n",
       "\n",
       "    .dataframe tbody tr th {\n",
       "        vertical-align: top;\n",
       "    }\n",
       "\n",
       "    .dataframe thead th {\n",
       "        text-align: right;\n",
       "    }\n",
       "</style>\n",
       "<table border=\"1\" class=\"dataframe\">\n",
       "  <thead>\n",
       "    <tr style=\"text-align: right;\">\n",
       "      <th></th>\n",
       "      <th>station_id</th>\n",
       "      <th>Lat</th>\n",
       "      <th>Long</th>\n",
       "      <th>Drainage_area_mi2</th>\n",
       "      <th>Mean_Basin_Elev_ft</th>\n",
       "      <th>Perc_Forest</th>\n",
       "      <th>Perc_Develop</th>\n",
       "      <th>Perc_Imperv</th>\n",
       "      <th>Perc_Herbace</th>\n",
       "      <th>Perc_Slop_30</th>\n",
       "      <th>...</th>\n",
       "      <th>datetime</th>\n",
       "      <th>flow_cfs</th>\n",
       "      <th>s1</th>\n",
       "      <th>s2</th>\n",
       "      <th>storage</th>\n",
       "      <th>swe</th>\n",
       "      <th>NWM_flow</th>\n",
       "      <th>DOY</th>\n",
       "      <th>tempe(F)</th>\n",
       "      <th>precip(mm)</th>\n",
       "    </tr>\n",
       "  </thead>\n",
       "  <tbody>\n",
       "    <tr>\n",
       "      <th>16765</th>\n",
       "      <td>10126000</td>\n",
       "      <td>41.576321</td>\n",
       "      <td>-112.100782</td>\n",
       "      <td>7040.0</td>\n",
       "      <td>6620.0</td>\n",
       "      <td>15.6</td>\n",
       "      <td>4.28</td>\n",
       "      <td>0.55</td>\n",
       "      <td>15.2</td>\n",
       "      <td>1.94</td>\n",
       "      <td>...</td>\n",
       "      <td>2010-10-28</td>\n",
       "      <td>1162.60410</td>\n",
       "      <td>-0.891007</td>\n",
       "      <td>-0.453991</td>\n",
       "      <td>34.071895</td>\n",
       "      <td>1.142857</td>\n",
       "      <td>1183.0</td>\n",
       "      <td>301</td>\n",
       "      <td>41.423048</td>\n",
       "      <td>0.0</td>\n",
       "    </tr>\n",
       "    <tr>\n",
       "      <th>16766</th>\n",
       "      <td>10126000</td>\n",
       "      <td>41.576321</td>\n",
       "      <td>-112.100782</td>\n",
       "      <td>7040.0</td>\n",
       "      <td>6620.0</td>\n",
       "      <td>15.6</td>\n",
       "      <td>4.28</td>\n",
       "      <td>0.55</td>\n",
       "      <td>15.2</td>\n",
       "      <td>1.94</td>\n",
       "      <td>...</td>\n",
       "      <td>2010-10-29</td>\n",
       "      <td>1152.39590</td>\n",
       "      <td>-0.891007</td>\n",
       "      <td>-0.453991</td>\n",
       "      <td>34.673203</td>\n",
       "      <td>1.128571</td>\n",
       "      <td>1181.0</td>\n",
       "      <td>302</td>\n",
       "      <td>52.055238</td>\n",
       "      <td>0.0</td>\n",
       "    </tr>\n",
       "    <tr>\n",
       "      <th>16767</th>\n",
       "      <td>10126000</td>\n",
       "      <td>41.576321</td>\n",
       "      <td>-112.100782</td>\n",
       "      <td>7040.0</td>\n",
       "      <td>6620.0</td>\n",
       "      <td>15.6</td>\n",
       "      <td>4.28</td>\n",
       "      <td>0.55</td>\n",
       "      <td>15.2</td>\n",
       "      <td>1.94</td>\n",
       "      <td>...</td>\n",
       "      <td>2010-10-30</td>\n",
       "      <td>1036.51040</td>\n",
       "      <td>-0.891007</td>\n",
       "      <td>-0.453991</td>\n",
       "      <td>35.346405</td>\n",
       "      <td>1.071429</td>\n",
       "      <td>1181.0</td>\n",
       "      <td>303</td>\n",
       "      <td>51.981724</td>\n",
       "      <td>0.0</td>\n",
       "    </tr>\n",
       "    <tr>\n",
       "      <th>16768</th>\n",
       "      <td>10126000</td>\n",
       "      <td>41.576321</td>\n",
       "      <td>-112.100782</td>\n",
       "      <td>7040.0</td>\n",
       "      <td>6620.0</td>\n",
       "      <td>15.6</td>\n",
       "      <td>4.28</td>\n",
       "      <td>0.55</td>\n",
       "      <td>15.2</td>\n",
       "      <td>1.94</td>\n",
       "      <td>...</td>\n",
       "      <td>2010-10-31</td>\n",
       "      <td>680.29170</td>\n",
       "      <td>-0.891007</td>\n",
       "      <td>-0.453991</td>\n",
       "      <td>36.039216</td>\n",
       "      <td>1.078571</td>\n",
       "      <td>1179.0</td>\n",
       "      <td>304</td>\n",
       "      <td>43.891912</td>\n",
       "      <td>0.0</td>\n",
       "    </tr>\n",
       "    <tr>\n",
       "      <th>16769</th>\n",
       "      <td>10126000</td>\n",
       "      <td>41.576321</td>\n",
       "      <td>-112.100782</td>\n",
       "      <td>7040.0</td>\n",
       "      <td>6620.0</td>\n",
       "      <td>15.6</td>\n",
       "      <td>4.28</td>\n",
       "      <td>0.55</td>\n",
       "      <td>15.2</td>\n",
       "      <td>1.94</td>\n",
       "      <td>...</td>\n",
       "      <td>2010-11-01</td>\n",
       "      <td>557.59375</td>\n",
       "      <td>-0.998630</td>\n",
       "      <td>0.052336</td>\n",
       "      <td>36.699346</td>\n",
       "      <td>1.100000</td>\n",
       "      <td>1175.0</td>\n",
       "      <td>305</td>\n",
       "      <td>45.246638</td>\n",
       "      <td>0.0</td>\n",
       "    </tr>\n",
       "  </tbody>\n",
       "</table>\n",
       "<p>5 rows × 21 columns</p>\n",
       "</div>"
      ],
      "text/plain": [
       "      station_id        Lat        Long  Drainage_area_mi2  \\\n",
       "16765   10126000  41.576321 -112.100782             7040.0   \n",
       "16766   10126000  41.576321 -112.100782             7040.0   \n",
       "16767   10126000  41.576321 -112.100782             7040.0   \n",
       "16768   10126000  41.576321 -112.100782             7040.0   \n",
       "16769   10126000  41.576321 -112.100782             7040.0   \n",
       "\n",
       "       Mean_Basin_Elev_ft  Perc_Forest  Perc_Develop  Perc_Imperv  \\\n",
       "16765              6620.0         15.6          4.28         0.55   \n",
       "16766              6620.0         15.6          4.28         0.55   \n",
       "16767              6620.0         15.6          4.28         0.55   \n",
       "16768              6620.0         15.6          4.28         0.55   \n",
       "16769              6620.0         15.6          4.28         0.55   \n",
       "\n",
       "       Perc_Herbace  Perc_Slop_30  ...    datetime    flow_cfs        s1  \\\n",
       "16765          15.2          1.94  ...  2010-10-28  1162.60410 -0.891007   \n",
       "16766          15.2          1.94  ...  2010-10-29  1152.39590 -0.891007   \n",
       "16767          15.2          1.94  ...  2010-10-30  1036.51040 -0.891007   \n",
       "16768          15.2          1.94  ...  2010-10-31   680.29170 -0.891007   \n",
       "16769          15.2          1.94  ...  2010-11-01   557.59375 -0.998630   \n",
       "\n",
       "             s2    storage       swe  NWM_flow  DOY   tempe(F)  precip(mm)  \n",
       "16765 -0.453991  34.071895  1.142857    1183.0  301  41.423048         0.0  \n",
       "16766 -0.453991  34.673203  1.128571    1181.0  302  52.055238         0.0  \n",
       "16767 -0.453991  35.346405  1.071429    1181.0  303  51.981724         0.0  \n",
       "16768 -0.453991  36.039216  1.078571    1179.0  304  43.891912         0.0  \n",
       "16769  0.052336  36.699346  1.100000    1175.0  305  45.246638         0.0  \n",
       "\n",
       "[5 rows x 21 columns]"
      ]
     },
     "execution_count": 3,
     "metadata": {},
     "output_type": "execute_result"
    }
   ],
   "source": [
    "#get non headwater stations\n",
    "headwater_stations = ['10011500', # Bear River headwaters before WY state line\n",
    "                      '10109000', # Logan River above dams\n",
    "                      '10113500', # HW Blacksmith fork\n",
    "                      '10128500', # Upper Weber above Oakley\n",
    "                      '10131000', #Chalk creek before Weber - lots of upstream irrigation, potentially include\n",
    "                        '10146400', #Currant Creek above Mona Reservoir - lots of upstream irrigation, potentially include\n",
    "                        '10150500', #Spanish fork after diamond fork - potentially include because of 6th water diversion CUP\n",
    "                        '10154200', #Upper Provo river after confluence of N/S forks - potentially include because of duchense tunnel water diversion CUP\n",
    "                        '10172700', #Vernon creek 2 ranges west of Utah Lake, shouldnt be included because not in GSL basin \n",
    "                        '10172800', #Willow creek west of Gransville,  shouldnt be included because does not make it to GSL\n",
    "                          '10172952'\n",
    "                          ] #Dunn creek in Raft River Range, shouldnt be included because drains to bonnevile salt flats \n",
    "\n",
    "#remove headwater stations\n",
    "df = df[~df['station_id'].isin(headwater_stations)]\n",
    "\n",
    "#get stations with correct swe and storage features\n",
    "#The following sites have swe \n",
    "\n",
    "'''\n",
    "['10011500', '10105900', '10109000', '10126000', '10131000',\n",
    "       '10133650', '10133800', '10133980', '10134500', '10136500',\n",
    "       '10140700', '10141000', '10150500', '10154200', '10155000',\n",
    "       '10155200']\n",
    "'''\n",
    "\n",
    "#the following sites have swe and storage\n",
    "'''\n",
    "['10126000', '10134500', '10136500', '10140700', '10141000',\n",
    "       '10155200']\n",
    "'''\n",
    "\n",
    "stations = df['station_id'][(df['swe']>0) & (df['storage']>0)].unique()\n",
    "#stations = ['10155000']\n",
    "\n",
    "#Train model with these stations\n",
    "df = df[df['station_id'].isin(stations)]\n",
    "\n",
    "df.head()"
   ]
  },
  {
   "cell_type": "markdown",
   "id": "6c944c1e",
   "metadata": {},
   "source": [
    "## Train the model\n",
    "* make the model a .py file and class when finalized. PyTorch only saves the weights of the layer/node, not the overall structure."
   ]
  },
  {
   "cell_type": "code",
   "execution_count": 61,
   "id": "b3e454ae",
   "metadata": {},
   "outputs": [
    {
     "name": "stdout",
     "output_type": "stream",
     "text": [
      "Device: cuda\n"
     ]
    },
    {
     "data": {
      "text/plain": [
       "<module 'shared_scripts.lstm_model' from '/home/rjohnson18/NWM_ML/RJ/ModelDevelopment/../../shared_scripts/lstm_model.py'>"
      ]
     },
     "execution_count": 61,
     "metadata": {},
     "output_type": "execute_result"
    }
   ],
   "source": [
    "import importlib\n",
    "importlib.reload(lstm_model)"
   ]
  },
  {
   "cell_type": "code",
   "execution_count": 63,
   "id": "26ff37d2",
   "metadata": {},
   "outputs": [
    {
     "name": "stdout",
     "output_type": "stream",
     "text": [
      "Optimizing the LSTM model by evaluating 75 models using grid search validation\n",
      "StandardScaler applied\n",
      "Training 1 of 75 models\n",
      "Lookback: [10, 20, 30, 40, 65]\n",
      "feature shape: torch.Size([26029, 10, 12]), Test shape: torch.Size([26029])\n",
      "Epochs: 50, Batch size: 100, LR: 0.0001, Decay: 0.0005, Neurons: 50, Number Layers: 1, Bidirectional: True\n",
      "Bidirectional: True\n"
     ]
    },
    {
     "data": {
      "application/vnd.jupyter.widget-view+json": {
       "model_id": "b55e410ae55b41858dde07578a11e2e8",
       "version_major": 2,
       "version_minor": 0
      },
      "text/plain": [
       "Epochs completed:   0%|          | 0/50 [00:00<?, ?it/s]"
      ]
     },
     "metadata": {},
     "output_type": "display_data"
    },
    {
     "name": "stdout",
     "output_type": "stream",
     "text": [
      "Epoch 0: train RMSE 2.4176, test RMSE 0.4544\n",
      "Epoch 10: train RMSE 2.1383, test RMSE 0.4955\n",
      "Epoch 20: train RMSE 1.9924, test RMSE 0.5840\n",
      "Epoch 30: train RMSE 2.0135, test RMSE 0.6524\n",
      "Epoch 40: train RMSE 2.0537, test RMSE 0.6860\n"
     ]
    },
    {
     "data": {
      "application/vnd.jupyter.widget-view+json": {
       "model_id": "8bd993e88f854fe3871b783ad2da71b4",
       "version_major": 2,
       "version_minor": 0
      },
      "text/plain": [
       "Epochs completed:   0%|          | 0/50 [00:00<?, ?it/s]"
      ]
     },
     "metadata": {},
     "output_type": "display_data"
    },
    {
     "name": "stdout",
     "output_type": "stream",
     "text": [
      "Epoch 0: train RMSE 2.5916, test RMSE 0.7166\n",
      "Epoch 10: train RMSE 2.7201, test RMSE 0.7982\n",
      "Epoch 20: train RMSE 2.7972, test RMSE 0.8016\n",
      "Epoch 30: train RMSE 2.8459, test RMSE 0.7994\n",
      "Epoch 40: train RMSE 2.8855, test RMSE 0.8051\n"
     ]
    },
    {
     "data": {
      "application/vnd.jupyter.widget-view+json": {
       "model_id": "0514839187e144aead932ccac1f58601",
       "version_major": 2,
       "version_minor": 0
      },
      "text/plain": [
       "Epochs completed:   0%|          | 0/50 [00:00<?, ?it/s]"
      ]
     },
     "metadata": {},
     "output_type": "display_data"
    },
    {
     "name": "stdout",
     "output_type": "stream",
     "text": [
      "Epoch 0: train RMSE 0.2799, test RMSE 0.8072\n",
      "Epoch 10: train RMSE 0.1534, test RMSE 0.7547\n",
      "Epoch 20: train RMSE 0.1339, test RMSE 0.7413\n",
      "Epoch 30: train RMSE 0.1312, test RMSE 0.7361\n",
      "Epoch 40: train RMSE 0.1305, test RMSE 0.7333\n"
     ]
    },
    {
     "data": {
      "application/vnd.jupyter.widget-view+json": {
       "model_id": "517856aa519c4999837eca458384de2d",
       "version_major": 2,
       "version_minor": 0
      },
      "text/plain": [
       "Epochs completed:   0%|          | 0/50 [00:00<?, ?it/s]"
      ]
     },
     "metadata": {},
     "output_type": "display_data"
    },
    {
     "name": "stdout",
     "output_type": "stream",
     "text": [
      "Epoch 0: train RMSE 0.1283, test RMSE 0.7316\n",
      "Epoch 10: train RMSE 0.1265, test RMSE 0.7320\n",
      "Epoch 20: train RMSE 0.1279, test RMSE 0.7319\n",
      "Epoch 30: train RMSE 0.1290, test RMSE 0.7315\n",
      "Epoch 40: train RMSE 0.1295, test RMSE 0.7311\n"
     ]
    },
    {
     "data": {
      "application/vnd.jupyter.widget-view+json": {
       "model_id": "4b09e7646642436e9544edabd8a05231",
       "version_major": 2,
       "version_minor": 0
      },
      "text/plain": [
       "Epochs completed:   0%|          | 0/50 [00:00<?, ?it/s]"
      ]
     },
     "metadata": {},
     "output_type": "display_data"
    },
    {
     "name": "stdout",
     "output_type": "stream",
     "text": [
      "Epoch 0: train RMSE 0.1346, test RMSE 0.7299\n",
      "Epoch 10: train RMSE 0.1276, test RMSE 0.7243\n",
      "Epoch 20: train RMSE 0.1251, test RMSE 0.7221\n",
      "Epoch 30: train RMSE 0.1235, test RMSE 0.7206\n",
      "Epoch 40: train RMSE 0.1224, test RMSE 0.7193\n"
     ]
    },
    {
     "data": {
      "application/vnd.jupyter.widget-view+json": {
       "model_id": "ae56bd2ab85848a79213b5ce26ec7276",
       "version_major": 2,
       "version_minor": 0
      },
      "text/plain": [
       "Epochs completed:   0%|          | 0/50 [00:00<?, ?it/s]"
      ]
     },
     "metadata": {},
     "output_type": "display_data"
    },
    {
     "name": "stdout",
     "output_type": "stream",
     "text": [
      "Epoch 0: train RMSE 0.1581, test RMSE 0.7179\n",
      "Epoch 10: train RMSE 0.1588, test RMSE 0.7154\n",
      "Epoch 20: train RMSE 0.1584, test RMSE 0.7137\n",
      "Epoch 30: train RMSE 0.1580, test RMSE 0.7123\n",
      "Epoch 40: train RMSE 0.1576, test RMSE 0.7110\n"
     ]
    },
    {
     "data": {
      "application/vnd.jupyter.widget-view+json": {
       "model_id": "e427e0cb89394a80ba19a1f86c73ffc3",
       "version_major": 2,
       "version_minor": 0
      },
      "text/plain": [
       "Epochs completed:   0%|          | 0/50 [00:00<?, ?it/s]"
      ]
     },
     "metadata": {},
     "output_type": "display_data"
    },
    {
     "name": "stdout",
     "output_type": "stream",
     "text": [
      "Epoch 0: train RMSE 0.1050, test RMSE 0.7097\n",
      "Epoch 10: train RMSE 0.1019, test RMSE 0.7045\n",
      "Epoch 20: train RMSE 0.1012, test RMSE 0.7020\n",
      "Epoch 30: train RMSE 0.1007, test RMSE 0.6999\n",
      "Epoch 40: train RMSE 0.1004, test RMSE 0.6979\n"
     ]
    },
    {
     "data": {
      "application/vnd.jupyter.widget-view+json": {
       "model_id": "4da87312808546549648f6cb9375724f",
       "version_major": 2,
       "version_minor": 0
      },
      "text/plain": [
       "Epochs completed:   0%|          | 0/50 [00:00<?, ?it/s]"
      ]
     },
     "metadata": {},
     "output_type": "display_data"
    },
    {
     "name": "stdout",
     "output_type": "stream",
     "text": [
      "Epoch 0: train RMSE 0.3540, test RMSE 0.6770\n",
      "Epoch 10: train RMSE 0.2827, test RMSE 0.6097\n",
      "Epoch 20: train RMSE 0.2721, test RMSE 0.5908\n",
      "Epoch 30: train RMSE 0.2677, test RMSE 0.5806\n",
      "Epoch 40: train RMSE 0.2656, test RMSE 0.5739\n"
     ]
    },
    {
     "data": {
      "application/vnd.jupyter.widget-view+json": {
       "model_id": "943f068158cf4900bc745d26f8305967",
       "version_major": 2,
       "version_minor": 0
      },
      "text/plain": [
       "Epochs completed:   0%|          | 0/50 [00:00<?, ?it/s]"
      ]
     },
     "metadata": {},
     "output_type": "display_data"
    },
    {
     "name": "stdout",
     "output_type": "stream",
     "text": [
      "Epoch 0: train RMSE 0.6236, test RMSE 0.5774\n",
      "Epoch 10: train RMSE 0.7396, test RMSE 0.6755\n",
      "Epoch 20: train RMSE 0.7541, test RMSE 0.6920\n",
      "Epoch 30: train RMSE 0.7594, test RMSE 0.6970\n",
      "Epoch 40: train RMSE 0.7627, test RMSE 0.6997\n",
      "Model training took: 21.83361498499994  seconds\n",
      "Training Complete\n",
      "Bidirectional: True\n",
      "model is on cuda\n",
      "USGS site: 10126000\n"
     ]
    },
    {
     "data": {
      "image/png": "[encoded data removed]",
      "text/plain": [
       "<Figure size 800x400 with 2 Axes>"
      ]
     },
     "metadata": {},
     "output_type": "display_data"
    },
    {
     "data": {
      "text/html": [
       "<div>\n",
       "<style scoped>\n",
       "    .dataframe tbody tr th:only-of-type {\n",
       "        vertical-align: middle;\n",
       "    }\n",
       "\n",
       "    .dataframe tbody tr th {\n",
       "        vertical-align: top;\n",
       "    }\n",
       "\n",
       "    .dataframe thead th {\n",
       "        text-align: right;\n",
       "    }\n",
       "</style>\n",
       "<table border=\"1\" class=\"dataframe\">\n",
       "  <thead>\n",
       "    <tr style=\"text-align: right;\">\n",
       "      <th></th>\n",
       "      <th>NWM_flow_kge</th>\n",
       "      <th>LSTM_flow_kge</th>\n",
       "      <th>NWM_flow_rmse</th>\n",
       "      <th>LSTM_flow_rmse</th>\n",
       "      <th>NWM_flow_mape</th>\n",
       "      <th>LSTM_flow_mape</th>\n",
       "      <th>NWM_flow_pbias</th>\n",
       "      <th>LSTM_flow_pbias</th>\n",
       "    </tr>\n",
       "    <tr>\n",
       "      <th>station_id</th>\n",
       "      <th></th>\n",
       "      <th></th>\n",
       "      <th></th>\n",
       "      <th></th>\n",
       "      <th></th>\n",
       "      <th></th>\n",
       "      <th></th>\n",
       "      <th></th>\n",
       "    </tr>\n",
       "  </thead>\n",
       "  <tbody>\n",
       "    <tr>\n",
       "      <th>10136500</th>\n",
       "      <td>-0.42</td>\n",
       "      <td>0.55</td>\n",
       "      <td>644.0</td>\n",
       "      <td>247.0</td>\n",
       "      <td>330.76</td>\n",
       "      <td>78.64</td>\n",
       "      <td>-137.08</td>\n",
       "      <td>5.58</td>\n",
       "    </tr>\n",
       "    <tr>\n",
       "      <th>10126000</th>\n",
       "      <td>-0.31</td>\n",
       "      <td>0.36</td>\n",
       "      <td>1716.0</td>\n",
       "      <td>766.0</td>\n",
       "      <td>306.30</td>\n",
       "      <td>119.06</td>\n",
       "      <td>-39.65</td>\n",
       "      <td>0.08</td>\n",
       "    </tr>\n",
       "    <tr>\n",
       "      <th>10140700</th>\n",
       "      <td>0.29</td>\n",
       "      <td>0.33</td>\n",
       "      <td>236.0</td>\n",
       "      <td>262.0</td>\n",
       "      <td>221.61</td>\n",
       "      <td>298.37</td>\n",
       "      <td>-30.30</td>\n",
       "      <td>-39.48</td>\n",
       "    </tr>\n",
       "    <tr>\n",
       "      <th>10141000</th>\n",
       "      <td>-2.10</td>\n",
       "      <td>0.13</td>\n",
       "      <td>1169.0</td>\n",
       "      <td>421.0</td>\n",
       "      <td>1111.22</td>\n",
       "      <td>354.03</td>\n",
       "      <td>-304.72</td>\n",
       "      <td>-82.58</td>\n",
       "    </tr>\n",
       "    <tr>\n",
       "      <th>10155200</th>\n",
       "      <td>0.63</td>\n",
       "      <td>-0.27</td>\n",
       "      <td>192.0</td>\n",
       "      <td>355.0</td>\n",
       "      <td>29.28</td>\n",
       "      <td>63.87</td>\n",
       "      <td>15.23</td>\n",
       "      <td>71.78</td>\n",
       "    </tr>\n",
       "    <tr>\n",
       "      <th>10134500</th>\n",
       "      <td>-0.97</td>\n",
       "      <td>-0.39</td>\n",
       "      <td>132.0</td>\n",
       "      <td>93.0</td>\n",
       "      <td>545.15</td>\n",
       "      <td>363.91</td>\n",
       "      <td>-173.33</td>\n",
       "      <td>-127.20</td>\n",
       "    </tr>\n",
       "  </tbody>\n",
       "</table>\n",
       "</div>"
      ],
      "text/plain": [
       "            NWM_flow_kge  LSTM_flow_kge  NWM_flow_rmse  LSTM_flow_rmse  \\\n",
       "station_id                                                               \n",
       "10136500           -0.42           0.55          644.0           247.0   \n",
       "10126000           -0.31           0.36         1716.0           766.0   \n",
       "10140700            0.29           0.33          236.0           262.0   \n",
       "10141000           -2.10           0.13         1169.0           421.0   \n",
       "10155200            0.63          -0.27          192.0           355.0   \n",
       "10134500           -0.97          -0.39          132.0            93.0   \n",
       "\n",
       "            NWM_flow_mape  LSTM_flow_mape  NWM_flow_pbias  LSTM_flow_pbias  \n",
       "station_id                                                                  \n",
       "10136500           330.76           78.64         -137.08             5.58  \n",
       "10126000           306.30          119.06          -39.65             0.08  \n",
       "10140700           221.61          298.37          -30.30           -39.48  \n",
       "10141000          1111.22          354.03         -304.72           -82.58  \n",
       "10155200            29.28           63.87           15.23            71.78  \n",
       "10134500           545.15          363.91         -173.33          -127.20  "
      ]
     },
     "metadata": {},
     "output_type": "display_data"
    },
    {
     "name": "stdout",
     "output_type": "stream",
     "text": [
      "Training 2 of 75 models\n",
      "Lookback: [10, 20, 30, 40, 65]\n",
      "feature shape: torch.Size([26029, 10, 12]), Test shape: torch.Size([26029])\n",
      "Epochs: 50, Batch size: 100, LR: 0.0001, Decay: 0.0005, Neurons: 100, Number Layers: 1, Bidirectional: True\n",
      "Bidirectional: True\n"
     ]
    },
    {
     "data": {
      "application/vnd.jupyter.widget-view+json": {
       "model_id": "60df7114e71148ac8af178daf5dfbba7",
       "version_major": 2,
       "version_minor": 0
      },
      "text/plain": [
       "Epochs completed:   0%|          | 0/50 [00:00<?, ?it/s]"
      ]
     },
     "metadata": {},
     "output_type": "display_data"
    },
    {
     "name": "stdout",
     "output_type": "stream",
     "text": [
      "Epoch 0: train RMSE 2.3533, test RMSE 0.4648\n",
      "Epoch 10: train RMSE 2.0021, test RMSE 0.5286\n",
      "Epoch 20: train RMSE 2.0151, test RMSE 0.6245\n",
      "Epoch 30: train RMSE 2.0842, test RMSE 0.6653\n",
      "Epoch 40: train RMSE 2.1511, test RMSE 0.6961\n"
     ]
    },
    {
     "data": {
      "application/vnd.jupyter.widget-view+json": {
       "model_id": "bc8f58562cd54973a6d99c52d8193646",
       "version_major": 2,
       "version_minor": 0
      },
      "text/plain": [
       "Epochs completed:   0%|          | 0/50 [00:00<?, ?it/s]"
      ]
     },
     "metadata": {},
     "output_type": "display_data"
    },
    {
     "name": "stdout",
     "output_type": "stream",
     "text": [
      "Epoch 0: train RMSE 2.7294, test RMSE 0.7607\n",
      "Epoch 10: train RMSE 2.8925, test RMSE 0.8253\n",
      "Epoch 20: train RMSE 2.9362, test RMSE 0.8051\n",
      "Epoch 30: train RMSE 2.9758, test RMSE 0.7959\n",
      "Epoch 40: train RMSE 3.0112, test RMSE 0.7921\n"
     ]
    },
    {
     "data": {
      "application/vnd.jupyter.widget-view+json": {
       "model_id": "27af0735f74a44bb8f619f0394466b53",
       "version_major": 2,
       "version_minor": 0
      },
      "text/plain": [
       "Epochs completed:   0%|          | 0/50 [00:00<?, ?it/s]"
      ]
     },
     "metadata": {},
     "output_type": "display_data"
    },
    {
     "name": "stdout",
     "output_type": "stream",
     "text": [
      "Epoch 0: train RMSE 0.2650, test RMSE 0.7845\n",
      "Epoch 10: train RMSE 0.1675, test RMSE 0.7401\n",
      "Epoch 20: train RMSE 0.1535, test RMSE 0.7331\n",
      "Epoch 30: train RMSE 0.1460, test RMSE 0.7299\n",
      "Epoch 40: train RMSE 0.1412, test RMSE 0.7274\n"
     ]
    },
    {
     "data": {
      "application/vnd.jupyter.widget-view+json": {
       "model_id": "675d687dc135430395b4407b6f67f5ef",
       "version_major": 2,
       "version_minor": 0
      },
      "text/plain": [
       "Epochs completed:   0%|          | 0/50 [00:00<?, ?it/s]"
      ]
     },
     "metadata": {},
     "output_type": "display_data"
    },
    {
     "name": "stdout",
     "output_type": "stream",
     "text": [
      "Epoch 0: train RMSE 0.1342, test RMSE 0.7258\n",
      "Epoch 10: train RMSE 0.1314, test RMSE 0.7270\n",
      "Epoch 20: train RMSE 0.1329, test RMSE 0.7269\n",
      "Epoch 30: train RMSE 0.1334, test RMSE 0.7266\n",
      "Epoch 40: train RMSE 0.1332, test RMSE 0.7261\n"
     ]
    },
    {
     "data": {
      "application/vnd.jupyter.widget-view+json": {
       "model_id": "d63c38f6661841d9871cf0d96d138f87",
       "version_major": 2,
       "version_minor": 0
      },
      "text/plain": [
       "Epochs completed:   0%|          | 0/50 [00:00<?, ?it/s]"
      ]
     },
     "metadata": {},
     "output_type": "display_data"
    },
    {
     "name": "stdout",
     "output_type": "stream",
     "text": [
      "Epoch 0: train RMSE 0.1425, test RMSE 0.7238\n",
      "Epoch 10: train RMSE 0.1317, test RMSE 0.7132\n",
      "Epoch 20: train RMSE 0.1278, test RMSE 0.7099\n",
      "Epoch 30: train RMSE 0.1256, test RMSE 0.7078\n",
      "Epoch 40: train RMSE 0.1241, test RMSE 0.7062\n"
     ]
    },
    {
     "data": {
      "application/vnd.jupyter.widget-view+json": {
       "model_id": "136a1e890ae14a08adcf00e154ee09bd",
       "version_major": 2,
       "version_minor": 0
      },
      "text/plain": [
       "Epochs completed:   0%|          | 0/50 [00:00<?, ?it/s]"
      ]
     },
     "metadata": {},
     "output_type": "display_data"
    },
    {
     "name": "stdout",
     "output_type": "stream",
     "text": [
      "Epoch 0: train RMSE 0.1609, test RMSE 0.7045\n",
      "Epoch 10: train RMSE 0.1601, test RMSE 0.7012\n",
      "Epoch 20: train RMSE 0.1593, test RMSE 0.6989\n",
      "Epoch 30: train RMSE 0.1587, test RMSE 0.6967\n",
      "Epoch 40: train RMSE 0.1583, test RMSE 0.6947\n"
     ]
    },
    {
     "data": {
      "application/vnd.jupyter.widget-view+json": {
       "model_id": "f79a92f08bc34145be89f000729bc404",
       "version_major": 2,
       "version_minor": 0
      },
      "text/plain": [
       "Epochs completed:   0%|          | 0/50 [00:00<?, ?it/s]"
      ]
     },
     "metadata": {},
     "output_type": "display_data"
    },
    {
     "name": "stdout",
     "output_type": "stream",
     "text": [
      "Epoch 0: train RMSE 0.1028, test RMSE 0.6916\n",
      "Epoch 10: train RMSE 0.1028, test RMSE 0.6843\n",
      "Epoch 20: train RMSE 0.1024, test RMSE 0.6820\n",
      "Epoch 30: train RMSE 0.1020, test RMSE 0.6794\n"
     ]
    }
   ],
   "source": [
    "#Train the model\n",
    "# Assuming you have your data loaded into NumPy arrays as x_train_scaled, y_train_scaled, x_test_scaled, y_test_scaled, x_scaled, y_scaled\n",
    "# parameters   - need to be able to put the lookback in here...\n",
    "epochs = [50,80,100,200,300] #early stopping - Savalan is lookin into it\n",
    "lookback = [10,20,30,40,65]\n",
    "batch_size = [100]\n",
    "learning_rate = [0.0001] #initial rate\n",
    "decay = [0.0005] #reduces to \n",
    "neurons = [50,100,150]\n",
    "num_layers = [1]\n",
    "bidirectional = [True]\n",
    "supply = False\n",
    "loss_func = nn.MSELoss()\n",
    "scalertype =  'StandardScaler' #'MinMaxScaler'\n",
    "plot = False\n",
    "\n",
    "training_params = epochs, lookback, batch_size, learning_rate, decay, neurons, num_layers, bidirectional\n",
    "\n",
    "GS_Eval_DF, GS_Eval_dict, GS_Pred_dict = lstm_model.LSTM_optimization(df, \n",
    "                    input_columns, \n",
    "                    target, \n",
    "                    test_years, \n",
    "                    model_path,\n",
    "                    scalertype,\n",
    "                    training_params,\n",
    "                    loss_func,\n",
    "                    modelname,\n",
    "                    StreamStats,\n",
    "                    supply,\n",
    "                    plot)\n",
    "\n",
    "GS_Eval_DF"
   ]
  },
  {
   "cell_type": "code",
   "execution_count": null,
   "id": "2e97d9da",
   "metadata": {},
   "outputs": [],
   "source": []
  },
  {
   "cell_type": "code",
   "execution_count": null,
   "id": "e29d1fd2",
   "metadata": {},
   "outputs": [],
   "source": [
    "GS_Eval_DF"
   ]
  },
  {
   "cell_type": "markdown",
   "id": "b3f1a412",
   "metadata": {},
   "source": [
    "# Finalize automatic training protocol for final model.\n",
    "Make a prediction for each location, save as compressed pkl file, and send predictions to AWS for use in CSES"
   ]
  },
  {
   "cell_type": "code",
   "execution_count": null,
   "id": "ebecc9b1",
   "metadata": {},
   "outputs": [],
   "source": [
    "#convert the MLP final model to lstm\n",
    "\n",
    "Eval_DF, Preds_Dict = lstm_model.Final_Model(df,\n",
    "                GS_Eval_DF,\n",
    "                input_columns,\n",
    "                target,\n",
    "                loss_func, \n",
    "                scalertype,\n",
    "                model_path, \n",
    "                modelname,\n",
    "                test_years, \n",
    "                StreamStats,\n",
    "                supply\n",
    "                )\n",
    "Eval_DF"
   ]
  },
  {
   "cell_type": "code",
   "execution_count": null,
   "id": "c98963c6",
   "metadata": {},
   "outputs": [],
   "source": []
  },
  {
   "cell_type": "code",
   "execution_count": null,
   "id": "d09c5d11",
   "metadata": {},
   "outputs": [],
   "source": [
    "import importlib\n",
    "importlib.reload(lstm_model)"
   ]
  },
  {
   "cell_type": "code",
   "execution_count": null,
   "id": "514bcfef",
   "metadata": {},
   "outputs": [],
   "source": []
  },
  {
   "cell_type": "code",
   "execution_count": null,
   "id": "75671802",
   "metadata": {},
   "outputs": [],
   "source": []
  },
  {
   "cell_type": "code",
   "execution_count": null,
   "id": "b1b8614f",
   "metadata": {},
   "outputs": [],
   "source": []
  },
  {
   "cell_type": "code",
   "execution_count": null,
   "id": "ec04df49",
   "metadata": {},
   "outputs": [],
   "source": [
    "#Manually train the model\n",
    "# Assuming you have your data loaded into NumPy arrays as x_train_scaled, y_train_scaled, x_test_scaled, y_test_scaled, x_scaled, y_scaled\n",
    "# Hyperparameters\n",
    "epochs = 5 #early stopping - Savalan is lookin into it\n",
    "batch_size = 65\n",
    "learning_rate = 0.00001 #initial rate\n",
    "decay = 0.0005 #reduces to \n",
    "validation_split = 0.2  #can add cross validation - Savalan is looking into it.\n",
    "neurons = 300\n",
    "shuffle = True\n",
    "bidirectional = True\n",
    "input_shape = x_train_scaled_t.shape[2]\n",
    "\n",
    "training_params = epochs, batch_size, learning_rate, decay, neurons, bidirectional\n",
    "model_params = bidirectional, input_shape, neurons\n",
    "\n",
    "lstm_model.LSTM_train(training_params,\n",
    "            x_train_scaled_t,\n",
    "            y_train_scaled_t, \n",
    "            shuffle, \n",
    "            model_path,\n",
    "            modelname)\n",
    "\n",
    "Preds_Dict = lstm_model.LSTM_predict(model_params, \n",
    "                        test_years, \n",
    "                        df, \n",
    "                        X_test_dic, \n",
    "                        input_shape, \n",
    "                        StreamStats, \n",
    "                        model_path, \n",
    "                        modelname)\n",
    "\n",
    "#Evaluate model performance of the different models, 'flow_cfs_pred', \n",
    "prediction_columns = ['NWM_flow', f\"{modelname}_flow\"]\n",
    "Eval_DF = Simple_Eval.Simple_Eval(Preds_Dict, \n",
    "                                prediction_columns, \n",
    "                                modelname, \n",
    "                                supply = supply,\n",
    "                                plots = False, \n",
    "                                keystats = False        \n",
    "                                )\n",
    "\n",
    "#create dataframe to store key model perf metrics, and inputs\n",
    "cols = [f\"{modelname}_flow_kge\", f\"{modelname}_flow_rmse\", f\"{modelname}_flow_mape\", f\"{modelname}_flow_pbias\"]\n",
    "model_eval = Eval_DF[cols].copy()\n",
    "\n",
    "#Get mean scoring metrics for AOI - aver kge, mape, pbias\n",
    "model_eval = pd.DataFrame(model_eval.mean(axis=0)).T"
   ]
  }
 ],
 "metadata": {
  "kernelspec": {
   "display_name": "GPU_env",
   "language": "python",
   "name": "python3"
  },
  "language_info": {
   "codemirror_mode": {
    "name": "ipython",
    "version": 3
   },
   "file_extension": ".py",
   "mimetype": "text/x-python",
   "name": "python",
   "nbconvert_exporter": "python",
   "pygments_lexer": "ipython3",
   "version": "3.11.7"
  }
 },
 "nbformat": 4,
 "nbformat_minor": 5
}
