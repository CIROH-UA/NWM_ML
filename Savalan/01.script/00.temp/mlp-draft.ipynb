{
 "cells": [
  {
   "cell_type": "code",
   "execution_count": null,
   "id": "443b2d62-be71-4ba4-8a8f-1da3e858df44",
   "metadata": {
    "scrolled": true,
    "tags": []
   },
   "outputs": [],
   "source": [
    "# %pip install progressbar xgboost matplotlib boto3 openpyxl tqdm hydroeval hydrotools"
   ]
  },
  {
   "cell_type": "code",
   "execution_count": null,
   "id": "initial_id",
   "metadata": {
    "ExecuteTime": {
     "end_time": "2023-11-09T04:18:40.666198Z",
     "start_time": "2023-11-09T04:18:40.658467Z"
    },
    "tags": []
   },
   "outputs": [],
   "source": [
    "# hydrological packages\n",
    "from hydrotools.nwm_client import utils \n",
    "\n",
    "# my packages\n",
    "from evaluation_metric import MAPE, RMSE, KGE, PBias\n",
    "\n",
    "# basic packages\n",
    "import matplotlib.pyplot as plt\n",
    "import numpy as np\n",
    "import pandas as pd\n",
    "\n",
    "# system packages\n",
    "from progressbar import ProgressBar\n",
    "from datetime import datetime, date\n",
    "import pickle\n",
    "import warnings\n",
    "warnings.filterwarnings(\"ignore\")\n",
    "import platform\n",
    "import time\n",
    "\n",
    "# data analysi packages\n",
    "from scipy import optimize\n",
    "\n",
    "from sklearn.model_selection import train_test_split\n",
    "from sklearn.preprocessing import MinMaxScaler\n",
    "\n",
    "from sklearn.model_selection import GridSearchCV\n",
    "from sklearn.model_selection import RepeatedKFold\n",
    "from sklearn.model_selection import cross_val_score\n",
    "from sklearn.model_selection import train_test_split\n",
    "\n",
    "# deep learning packages\n",
    "import torch\n",
    "import torch.nn as nn\n",
    "import torch.optim as optim\n",
    "from torch.utils.data import DataLoader, TensorDataset\n"
   ]
  },
  {
   "cell_type": "code",
   "execution_count": null,
   "id": "e58486c593749230",
   "metadata": {
    "ExecuteTime": {
     "end_time": "2023-11-09T04:18:41.288250Z",
     "start_time": "2023-11-09T04:18:41.280798Z"
    },
    "collapsed": false,
    "jupyter": {
     "outputs_hidden": false
    },
    "tags": []
   },
   "outputs": [],
   "source": [
    "if platform.system() == 'Windows':\n",
    "    onedrive_path = 'E:/OneDrive/OneDrive - The University of Alabama/10.material/01.data/usgs_data/'\n",
    "    box_path = 'C:/Users/snaserneisary/Box/NWM-ML/'\n",
    "\n",
    "elif platform.system() == 'Darwin':\n",
    "    onedrive_path = '/Users/savalan/Library/CloudStorage/OneDrive-TheUniversityofAlabama/02.projects/03.ciroh/04.data/'\n",
    "    box_path = '/Users/savalan/Library/CloudStorage/Box-Box/NWM-ML/Data/NWM/ut/'\n",
    "    \n",
    "elif platform.system() == 'Linux':\n",
    "    path_01 = '/home/snaserneisary/01.projects/01.ciroh_p8/NWM-ML/Savalan/'"
   ]
  },
  {
   "cell_type": "code",
   "execution_count": null,
   "id": "ac6e2808-7bcc-4d2a-a330-b5848da88c8b",
   "metadata": {
    "tags": []
   },
   "outputs": [],
   "source": [
    "device = torch.device(\"cuda\" if torch.cuda.is_available() else \"cpu\")\n",
    "print(\"Device:\", device)"
   ]
  },
  {
   "cell_type": "code",
   "execution_count": null,
   "id": "894c64e4a7611ac3",
   "metadata": {
    "ExecuteTime": {
     "end_time": "2023-11-09T04:18:43.689720Z",
     "start_time": "2023-11-09T04:18:43.650794Z"
    },
    "collapsed": false,
    "jupyter": {
     "outputs_hidden": false
    },
    "tags": []
   },
   "outputs": [],
   "source": [
    "raw_training_data = pd.read_csv(path_01 + '03.output/raw_training_data.csv')\n",
    "raw_training_data.pop('Unnamed: 0')\n",
    "raw_training_data['station_id'] = raw_training_data['station_id'].astype('str')\n",
    "raw_training_data.head()"
   ]
  },
  {
   "cell_type": "code",
   "execution_count": null,
   "id": "4f58d9b00594ff3a",
   "metadata": {
    "ExecuteTime": {
     "end_time": "2023-11-10T04:40:23.114069Z",
     "start_time": "2023-11-10T04:40:23.082463Z"
    },
    "collapsed": false,
    "jupyter": {
     "outputs_hidden": false
    },
    "tags": []
   },
   "outputs": [],
   "source": [
    "Training_DF = raw_training_data.copy()"
   ]
  },
  {
   "cell_type": "markdown",
   "id": "ef3d8ff5-b95a-40ed-af26-9029e1b54947",
   "metadata": {},
   "source": [
    "### Editing the features based on the feature importance should be in the next cell!!!!!!!!!!!!!!!"
   ]
  },
  {
   "cell_type": "code",
   "execution_count": null,
   "id": "ef8b8226-79f9-4f8d-8528-8989050bbdea",
   "metadata": {
    "tags": []
   },
   "outputs": [],
   "source": [
    "# Editing the features based on the feature importance should be done here!!!!!!!!!!!!!!!\n",
    "\n",
    "Training_DF.drop(['precipitation_in', 'temperature_F', 'Mean_Ann_Precip_in', 'Perc_Herbace', 'Perc_Forest',\n",
    "                        'Mean_Basin_Elev_ft'], axis=1, inplace=True)\n",
    "\n"
   ]
  },
  {
   "cell_type": "markdown",
   "id": "3765d89e-a4e4-481d-bdd1-f708678004af",
   "metadata": {
    "tags": []
   },
   "source": [
    "### Remove headwater stations!!!!!!!"
   ]
  },
  {
   "cell_type": "code",
   "execution_count": null,
   "id": "e2172979-7110-45a7-9778-e30173e34736",
   "metadata": {
    "tags": []
   },
   "outputs": [],
   "source": [
    "headwater_stations = ['10011500', '10109000', '10113500', '10128500', '10131000', '10146400', '10150500', '10154200',\n",
    "'10172700', '10172800', '10172952']\n",
    "Training_DF = Training_DF[~raw_training_data['station_id'].isin(headwater_stations)]"
   ]
  },
  {
   "cell_type": "code",
   "execution_count": null,
   "id": "be2448b6151fb377",
   "metadata": {
    "ExecuteTime": {
     "end_time": "2023-11-10T04:40:30.482191Z",
     "start_time": "2023-11-10T04:40:30.463560Z"
    },
    "tags": []
   },
   "outputs": [],
   "source": [
    "Training_DF.datetime = pd.to_datetime(Training_DF.datetime)\n",
    "Training_DF.head()"
   ]
  },
  {
   "cell_type": "code",
   "execution_count": null,
   "id": "5a160a8633a96ff7",
   "metadata": {
    "ExecuteTime": {
     "end_time": "2023-11-10T04:40:40.495727Z",
     "start_time": "2023-11-10T04:40:40.474155Z"
    },
    "collapsed": false,
    "jupyter": {
     "outputs_hidden": false
    },
    "tags": []
   },
   "outputs": [],
   "source": [
    "x_train_temp = Training_DF[Training_DF.datetime < '01-01-2015']\n",
    "x_train_temp.pop('station_id')\n",
    "x_train_temp.pop('datetime')\n",
    "y_train_temp = x_train_temp['flow_cfs']\n",
    "x_train_temp.pop('flow_cfs')\n",
    "x_train_temp.head()"
   ]
  },
  {
   "cell_type": "code",
   "execution_count": null,
   "id": "dd0faa488a9e9e44",
   "metadata": {
    "ExecuteTime": {
     "end_time": "2023-11-10T04:40:41.923386Z",
     "start_time": "2023-11-10T04:40:41.912929Z"
    },
    "collapsed": false,
    "jupyter": {
     "outputs_hidden": false
    },
    "tags": []
   },
   "outputs": [],
   "source": [
    "# Scale the train inputs of the NN model\n",
    "# First we need to convert it from pandas dataframe to a numpy array \n",
    "y_train = y_train_temp.to_numpy()\n",
    "x_train = x_train_temp.to_numpy()\n",
    "scaler = MinMaxScaler()\n",
    "x_train_scaled = scaler.fit_transform(x_train)\n",
    "y_scaled_train = scaler.fit_transform(y_train.reshape(-1, 1))\n",
    "y_scaled_train.shape"
   ]
  },
  {
   "cell_type": "code",
   "execution_count": null,
   "id": "bd46d43cce5d1387",
   "metadata": {
    "ExecuteTime": {
     "end_time": "2023-11-10T04:40:44.100124Z",
     "start_time": "2023-11-10T04:40:44.086373Z"
    },
    "collapsed": false,
    "jupyter": {
     "outputs_hidden": false
    },
    "tags": []
   },
   "outputs": [],
   "source": [
    "# Determining the test dataset. \n",
    "x_test_temp = Training_DF[Training_DF.datetime >= '01-01-2015']\n",
    "x_test_temp.head()"
   ]
  },
  {
   "cell_type": "code",
   "execution_count": null,
   "id": "b48a068a-2fdd-4ac7-9079-9d35edd9e013",
   "metadata": {
    "tags": []
   },
   "outputs": [],
   "source": [
    "# Scale the test inputs of the NN model\n",
    "# First we need to convert it from pandas dataframe to a numpy array \n",
    "x_test_temp_1 = x_test_temp.copy()\n",
    "station_index_list = x_test_temp_1['station_id']\n",
    "x_test_temp_1.pop('station_id')\n",
    "x_test_temp_1.pop('datetime')\n",
    "y_test_temp_1 = x_test_temp_1['flow_cfs']\n",
    "x_test_temp_1.pop('flow_cfs')\n",
    "x_test_1_np = x_test_temp_1.reset_index(drop=True).to_numpy()\n",
    "y_test_1_np = y_test_temp_1.reset_index(drop=True).to_numpy()\n",
    "x_test_1_scaled = scaler.fit_transform(x_test_1_np)\n",
    "y_scaled_test_1 = scaler.fit_transform(y_test_1_np.reshape(-1, 1))"
   ]
  },
  {
   "cell_type": "code",
   "execution_count": null,
   "id": "a0434049b0d18cb8",
   "metadata": {
    "ExecuteTime": {
     "end_time": "2023-11-10T04:40:49.443442Z",
     "start_time": "2023-11-10T04:40:49.440536Z"
    },
    "collapsed": false,
    "jupyter": {
     "outputs_hidden": false
    },
    "tags": []
   },
   "outputs": [],
   "source": [
    "# MLP\n",
    "\n",
    "n_targets = 1\n",
    "tries = 10\n",
    "cri_temp_nse = np.zeros([3, n_targets, tries])\n",
    "cri_temp_rmse = np.zeros([3, n_targets, tries])\n",
    "cri_temp_r2 = np.zeros([3, n_targets, tries])\n",
    "cri_temp_kge = np.zeros([3, n_targets, tries])\n",
    "cri_temp_lognse = np.zeros([3, n_targets, tries])\n",
    "print('finish')"
   ]
  },
  {
   "cell_type": "code",
   "execution_count": null,
   "id": "288d7dffbf2edc7e",
   "metadata": {
    "ExecuteTime": {
     "end_time": "2023-11-10T04:40:52.472498Z",
     "start_time": "2023-11-10T04:40:52.464352Z"
    },
    "collapsed": false,
    "jupyter": {
     "outputs_hidden": false
    },
    "tags": []
   },
   "outputs": [],
   "source": [
    "# Reshape input for MLP model\n",
    "x_train_scaled_test = torch.Tensor(x_train_scaled)\n",
    "y_train_scaled_test = torch.Tensor(y_scaled_train)\n",
    "print('test shape', x_train_scaled_test.shape)\n",
    "print('train shape', y_train_scaled_test.shape)"
   ]
  },
  {
   "cell_type": "code",
   "execution_count": null,
   "id": "8f86d83c-d13f-46ff-b158-5bec702bba59",
   "metadata": {
    "tags": []
   },
   "outputs": [],
   "source": [
    "# Take data to the proper device (GPU or CPU)\n",
    "# x_train_scaled_test = x_train_scaled_test.to(device)\n",
    "# y_train_scaled_test = y_train_scaled_test.to(device)"
   ]
  },
  {
   "cell_type": "code",
   "execution_count": null,
   "id": "f6520b45-a14a-4da6-a6bd-a96c67eaa026",
   "metadata": {},
   "outputs": [],
   "source": [
    "# # Hyperparameters\n",
    "# epochs = 100\n",
    "# batch_size = 100\n",
    "# learning_rate = 0.001\n",
    "# decay = 1e-2\n",
    "# validation_split = 0.2\n",
    "# neurons = 150\n",
    "# LD1=128\n",
    "# LD2=128\n",
    "# LD3=64\n",
    "# LD4=64\n",
    "# LD5=32\n",
    "# LD6=16\n",
    "# LD7=5"
   ]
  },
  {
   "cell_type": "code",
   "execution_count": null,
   "id": "447219f501a987b5",
   "metadata": {
    "ExecuteTime": {
     "end_time": "2023-11-10T04:50:15.960043Z",
     "start_time": "2023-11-10T04:40:59.662734Z"
    },
    "tags": []
   },
   "outputs": [],
   "source": [
    "# start_time = time.time()\n",
    "\n",
    "# # Create PyTorch datasets and dataloaders\n",
    "# train_dataset = TensorDataset(x_train_scaled_test, y_train_scaled_test)\n",
    "# train_loader = DataLoader(train_dataset, batch_size=batch_size, shuffle=False)\n",
    "\n",
    "# # Build the model\n",
    "# model = nn.Sequential(\n",
    "#     nn.Linear(x_test_1_scaled.shape[1], LD1),\n",
    "#     nn.ReLU(),\n",
    "#     nn.Linear(LD1, LD2),\n",
    "#     nn.ReLU(),\n",
    "#     nn.Linear(LD2, LD3),\n",
    "#     nn.ReLU(),\n",
    "#     nn.Linear(LD3, LD4),\n",
    "#     nn.ReLU(),\n",
    "#     nn.Linear(LD4, LD5),\n",
    "#     nn.ReLU(),\n",
    "#     nn.Linear(LD5, LD6),\n",
    "#     nn.ReLU(),\n",
    "#     nn.Linear(LD6, 1)\n",
    "# ).to(device)\n",
    "\n",
    "# # Define loss and optimizer\n",
    "# criterion = nn.MSELoss()\n",
    "# optimizer = optim.Adam(model.parameters(), lr=learning_rate)\n",
    "\n",
    "# # Training loop\n",
    "# for epoch in range(epochs):\n",
    "#     total_loss = 0.0\n",
    "#     for inputs, labels in train_loader:\n",
    "#         inputs, labels = inputs.to(device), labels.to(device)\n",
    "#         optimizer.zero_grad()\n",
    "#         outputs = model(inputs)\n",
    "#         loss = criterion(outputs, labels)\n",
    "#         loss.backward()\n",
    "#         optimizer.step()\n",
    "#         total_loss += loss.item()\n",
    "#     print(f\"Epoch {epoch + 1}/{epochs}, Loss: {total_loss / len(train_loader)}\")\n",
    "# print('finish')\n",
    "# print(\"Run Time:\" + \" %s seconds \" % (time.time() - start_time))\n",
    "# #save model\n",
    "# #torch.save(model.state_dict(), f\"./mlp_models/mlp_model.pkl\")"
   ]
  },
  {
   "cell_type": "code",
   "execution_count": null,
   "id": "08989cc1-0bf0-4bd8-8c50-f85d448e85dd",
   "metadata": {},
   "outputs": [],
   "source": [
    "# # Build and load the model\n",
    "device = torch.device('cpu') # for some reason had to change to cpu\n",
    "models = nn.Sequential(\n",
    "    nn.Linear(x_test_1_scaled.shape[1], LD1),\n",
    "    nn.ReLU(),\n",
    "    nn.Linear(LD1, LD2),\n",
    "    nn.ReLU(),\n",
    "    nn.Linear(LD2, LD3),\n",
    "    nn.ReLU(),\n",
    "    nn.Linear(LD3, LD4),\n",
    "    nn.ReLU(),\n",
    "    nn.Linear(LD4, LD5),\n",
    "    nn.ReLU(),\n",
    "    nn.Linear(LD5, LD6),\n",
    "    nn.ReLU(),\n",
    "    nn.Linear(LD6, 1)\n",
    ").to(device)\n",
    "\n",
    "models.load_state_dict(torch.load(f\"{path_01}03.output/mlp/mlp_model.pkl\", map_location=torch.device('cpu')))\n",
    "\n",
    "EvalDF = pd.DataFrame(columns = cols)\n",
    "SupplyEvalDF = pd.DataFrame(columns = supcols)\n",
    "\n",
    "SitesDict = {}\n",
    "\n",
    "for station_number in station_index_list.drop_duplicates():\n",
    "    index = station_index_list == station_number # Finind the rows that have this station number.\n",
    "    X_test_scaled = torch.Tensor(x_test_1_scaled[index])\n",
    "    \n",
    "    # Evaluation\n",
    "    models.eval()\n",
    "    with torch.no_grad():\n",
    "        yhat_test= models(X_test_scaled)\n",
    "\n",
    "    # Invert scaling for actual\n",
    "    inv_yhat_test = scaler.inverse_transform(yhat_test.numpy())\n",
    "    inv_yhat_test[inv_yhat_test<0] = 0 # THIS IS NOT CORRECT !!!!!!!!!!!!!!!\n",
    "    nwm_test = pd.DataFrame(inv_yhat_test, columns=['MLP_flow'])\n",
    "    Dfs = [nwm_test.reset_index(drop=True), x_test_temp[index].reset_index(drop=True)]\n",
    "\n",
    "    #get reach id for model eval\n",
    "    nhdreach = utils.crosswalk(usgs_site_codes=station_number)\n",
    "    nhdreach = nhdreach['nwm_feature_id'].iloc[0]\n",
    "    \n",
    "    #save predictions\n",
    "    mod = 'MLP'\n",
    "    save_path = f\"./Predictions/Hindcast/{mod}/{mod}_{nhdreach}.csv\"\n",
    "    #nwm_test.to_csv(save_path)\n",
    "    \n",
    "    # merge\n",
    "    Eval_DF_mine = pd.concat(Dfs, axis=1)\n",
    "    SitesDict[nhdreach] = Eval_DF_mine\n",
    "\n",
    "    \n",
    "    prediction_columns = ['NWM_flow', 'MLP_flow']\n",
    "    observation_column = 'flow_cfs'\n",
    "    \n",
    "    #Get RMSE from the model\n",
    "    rmse = RMSE(Eval_DF_mine, prediction_columns, observation_column)\n",
    "\n",
    "    #Get Mean Absolute Percentage Error from the model\n",
    "    mape = MAPE(Eval_DF_mine, prediction_columns, observation_column)\n",
    "\n",
    "    #Get Percent Bias from the model\n",
    "    pbias = PBias(Eval_DF_mine, prediction_columns, observation_column)\n",
    "\n",
    "    #Get Kling-Gutz Efficiency from the model\n",
    "    kge = KGE(Eval_DF_mine, prediction_columns, observation_column)\n",
    "    \n",
    "    #Get Volumetric values\n",
    "    Eval_DF_mine.set_index('datetime', inplace = True, drop =True)\n",
    "    flowcols = [f\"{mod}_flow\", 'flow_cfs', 'NWM_flow']\n",
    "    SupplyEval = Eval_DF_mine[flowcols].copy()\n",
    "    SupplyEval = SupplyEval*cfsday_AFday\n",
    "    #set up cumulative monthly values\n",
    "    SupplyEval['Year'] = SupplyEval.index.year\n",
    "\n",
    "    for site in flowcols:\n",
    "        SupplyEval[site] = SupplyEval.groupby(['Year'])[site].cumsum()  \n",
    "\n",
    "    EOY_mod_vol_af = SupplyEval[f\"{mod}_flow\"].iloc[-1]\n",
    "    EOY_obs_vol_af = SupplyEval[\"flow_cfs\"].iloc[-1]\n",
    "    EOY_nwm_vol_af = SupplyEval[f\"NWM_flow\"].iloc[-1]\n",
    "    NWM_vol_diff_af = EOY_nwm_vol_af - EOY_obs_vol_af\n",
    "    Mod_vol_diff_af = EOY_mod_vol_af - EOY_obs_vol_af\n",
    "    NWM_Perc_diff = (NWM_vol_diff_af/EOY_obs_vol_af)*100\n",
    "    Mod_Perc_diff = (Mod_vol_diff_af/EOY_obs_vol_af)*100\n",
    "    \n",
    "     #Get Performance Metrics from the model\n",
    "    Srmse = RMSE(SupplyEval, prediction_columns, observation_column)\n",
    "    Smape = MAPE(SupplyEval, prediction_columns, observation_column)\n",
    "    Spbias = PBias(SupplyEval, prediction_columns, observation_column)\n",
    "    Skge = KGE(SupplyEval, prediction_columns, observation_column)\n",
    "    \n",
    "    \n",
    "    #save model performance\n",
    "    sitestats = [station_number, nhdreach, rmse[0], rmse[1],  pbias[0], pbias[1], kge[0], kge[1], mape[0],mape[1]]\n",
    "    EvalDF.loc[len(EvalDF)] = sitestats\n",
    "    \n",
    "    Supplystats = [station_number, nhdreach, Srmse[0], Srmse[1],  Spbias[0], Spbias[1], Skge[0], Skge[1], Smape[0],  \n",
    "                 Smape[1],EOY_obs_vol_af, EOY_nwm_vol_af,EOY_mod_vol_af,NWM_vol_diff_af,Mod_vol_diff_af, NWM_Perc_diff, Mod_Perc_diff ]\n",
    "    SupplyEvalDF.loc[len(SupplyEvalDF)] = Supplystats\n",
    "    \n",
    "    \n",
    "    \n",
    "    \n",
    "    #put prediction DF into dictionary\n",
    "    # Eval_DF_mine.reset_index(inplace = True)\n",
    "    # Eval_DF_mine.sort_values(by=['datetime'], inplace=True)\n",
    "    # Eval_DF_mine.set_index('datetime', inplace = True)\n",
    "    \n",
    "    \n",
    "    \n",
    "#save model results\n",
    "#EvalDF.to_csv(f\"./Predictions/Hindcast/{mod}/{mod}_Performance.csv\")   \n",
    "#SupplyEvalDF.to_csv(f\"./Predictions/Hindcast/{mod}/{mod}_Supply_Performance.csv\")\n",
    "\n",
    "print('finish')\n"
   ]
  },
  {
   "cell_type": "code",
   "execution_count": null,
   "id": "a23cd2fd-2500-47c7-8005-7e81521a8b49",
   "metadata": {},
   "outputs": [],
   "source": [
    "# MODEL CLASS\n",
    "import torch\n",
    "import torch.nn as nn\n",
    "import torch.optim as optim\n",
    "\n",
    "class CustomMLP(nn.Module):\n",
    "    def __init__(self, layer_sizes, device=None):\n",
    "        super(CustomMLP, self).__init__()\n",
    "        self.layers = nn.ModuleList()\n",
    "        for i in range(len(layer_sizes) - 1):\n",
    "            self.layers.append(nn.Linear(layer_sizes[i], layer_sizes[i + 1]))\n",
    "        self.loss_function = nn.MSELoss()\n",
    "        self.device = torch.device(\"cuda\" if torch.cuda.is_available() else \"cpu\") if device is None else device\n",
    "        self.to(self.device)\n",
    "        self.validation_indicator = 0\n",
    "\n",
    "    def forward(self, x):\n",
    "        for i in range(len(self.layers) - 1):\n",
    "            x = torch.relu(self.layers[i](x))\n",
    "        x = self.layers[-1](x)\n",
    "        return x\n",
    "\n",
    "    def train_model(self, train_loader, epochs, early_stopping_patience, learning_rate=None, save_path=None, val_loader=None):\n",
    "        best_val_loss = float('inf')\n",
    "        epochs_no_improve = 0\n",
    "        optimizer = optim.Adam(self.layers.parameters(), lr=learning_rate)\n",
    "\n",
    "        for epoch in range(epochs):\n",
    "            self.train()  # Set the model to training mode\n",
    "            for inputs, targets in train_loader:\n",
    "                inputs, targets = inputs.to(self.device), targets.to(self.device)\n",
    "\n",
    "                optimizer.zero_grad()\n",
    "                outputs = self.forward(inputs)\n",
    "                loss = self.loss_function(outputs, targets)\n",
    "                loss.backward()\n",
    "                optimizer.step()\n",
    "\n",
    "            \n",
    "            val_loss = 0\n",
    "            if val_loader is not None:\n",
    "                self.validation_indicator = 1\n",
    "                val_loss = self.evaluate_model(val_loader)\n",
    "\n",
    "                if val_loss < best_val_loss:\n",
    "                    best_val_loss = val_loss\n",
    "                    torch.save(self.state_dict(), save_path)\n",
    "                    epochs_no_improve = 0\n",
    "                else:\n",
    "                    epochs_no_improve += 1\n",
    "\n",
    "                # if epochs_no_improve == early_stopping_patience:\n",
    "                #     print('Early stopping triggered')\n",
    "                #     break\n",
    "            print(f'Epoch {epoch+1}/{epochs}, Training Loss: {loss.item()}', f'Validation Loss: {val_loss}')\n",
    "        self.validation_indicator = 0\n",
    "        print('Training is done!')\n",
    "\n",
    "    def evaluate_model(self, data_loader):\n",
    "        self.eval()  # Set the model to evaluation mode\n",
    "        total_loss = 0\n",
    "        total = 0\n",
    "        with torch.no_grad():\n",
    "            for inputs, targets in data_loader:\n",
    "                inputs, targets = inputs.to(self.device), targets.to(self.device)\n",
    "\n",
    "                outputs = self.forward(inputs)\n",
    "                loss = self.loss_function(outputs, targets)\n",
    "                total_loss += loss.item() * inputs.size(0)\n",
    "                total += inputs.size(0)\n",
    "        avg_loss = total_loss / total\n",
    "        if self.validation_indicator == 0:\n",
    "            print(f'Validation Loss: {avg_loss}')\n",
    "        return outputs if self.validation_indicator == 0 else avg_loss\n",
    "\n",
    "    def save_model(self, file_path):\n",
    "        torch.save(self.state_dict(), file_path)\n",
    "\n",
    "    def load_model(self, file_path):\n",
    "        self.load_state_dict(torch.load(file_path, map_location=self.device))\n",
    "\n",
    "# Example Usage:\n",
    "# device = torch.device(\"cuda\" if torch.cuda.is_available() else \"cpu\")\n",
    "# model = CustomMLP(layer_sizes, learning_rate=0.01, device=device)\n",
    "# model.train_model(train_loader, epochs=5, val_loader=val_loader, early_stopping_patience=5, save_path='best_model.pth')\n",
    "# model.load_model('best_model.pth')\n"
   ]
  },
  {
   "cell_type": "code",
   "execution_count": null,
   "id": "d2f7e102-c274-4c60-bf2e-62c93f5b1a90",
   "metadata": {},
   "outputs": [],
   "source": [
    "# I should modify the model evauation and testing part. "
   ]
  },
  {
   "cell_type": "code",
   "execution_count": null,
   "id": "6fe54f58-8061-4c5b-b4b9-fa85fbac9512",
   "metadata": {},
   "outputs": [],
   "source": [
    "# %load_ext autoreload\n",
    "# %autoreload 2\n",
    "mod='MLP'\n",
    "epochs = 200\n",
    "batch_size = 100\n",
    "learning_rate = 0.001\n",
    "early_stopping_patience=5\n",
    "decay = 1e-2\n",
    "path_model_parameters = f\"{path_01}03.output/best_model.pkl\"\n",
    "#path_01 + '03.output/best_model.pkl'\n",
    "layer_sizes = [x_train_scaled_test.shape[1] ,128, 128, 64, 64, 32, 16, 5, 1]\n",
    "# neurons = 150\n",
    "# LD1=128\n",
    "# LD2=128\n",
    "# LD3=64\n",
    "# LD4=64\n",
    "# LD5=32\n",
    "# LD6=16\n",
    "# LD7=5\n",
    "# validation_split = 0.2\n",
    "\n",
    "# I should add decay\n"
   ]
  },
  {
   "cell_type": "code",
   "execution_count": null,
   "id": "e36b119b-2344-40ba-a0ae-378d56ff15c9",
   "metadata": {},
   "outputs": [],
   "source": [
    "# Create PyTorch datasets and dataloaders\n",
    "\n",
    "#X_train, X_valid, y_train, y_valid = train_test_split(x_train_scaled_test, y_train_scaled_test)\n",
    "\n",
    "train_dataset = TensorDataset(x_train_scaled_test, y_train_scaled_test)\n",
    "train_loader = DataLoader(train_dataset, batch_size=batch_size, shuffle=False)\n",
    "# validation_dataset = TensorDataset(X_valid, y_valid)\n",
    "# validation_loader = DataLoader(validation_dataset, batch_size=batch_size, shuffle=False)"
   ]
  },
  {
   "cell_type": "code",
   "execution_count": null,
   "id": "a23eaf92-2c94-4606-988e-7ec0db2e67f4",
   "metadata": {},
   "outputs": [],
   "source": []
  },
  {
   "cell_type": "code",
   "execution_count": null,
   "id": "9d7cc991-4c48-448f-9fed-5c42e19c5e3e",
   "metadata": {},
   "outputs": [],
   "source": [
    "mlp_model = CustomMLP(layer_sizes, device)"
   ]
  },
  {
   "cell_type": "code",
   "execution_count": null,
   "id": "3fde3189-c6b0-4c2a-8a4b-37fbffd9d373",
   "metadata": {},
   "outputs": [],
   "source": []
  },
  {
   "cell_type": "code",
   "execution_count": null,
   "id": "1e84a3b6-9949-4ff6-86b3-fea539b657c3",
   "metadata": {},
   "outputs": [],
   "source": [
    "mlp_model.train_model(train_loader, epochs, early_stopping_patience, learning_rate, path_model_parameters)"
   ]
  },
  {
   "cell_type": "code",
   "execution_count": null,
   "id": "a869ad22-9c32-42b9-8ba7-d12486672eb4",
   "metadata": {},
   "outputs": [],
   "source": [
    "mlp_model.load_model(path_model_parameters)"
   ]
  },
  {
   "cell_type": "code",
   "execution_count": null,
   "id": "9e0db0ed-1178-4d46-a0b1-65625bf0e4fd",
   "metadata": {},
   "outputs": [],
   "source": []
  },
  {
   "cell_type": "code",
   "execution_count": null,
   "id": "46d27186-3391-4d14-bfe3-4007d5def64d",
   "metadata": {},
   "outputs": [],
   "source": [
    "from evalaution_table import evtab\n",
    "\n",
    "EvalDF = np.zeros([len(station_index_list.drop_duplicates()), 10])\n",
    "SupplyEvalDF = np.zeros([len(station_index_list.drop_duplicates()), 17])\n",
    "\n",
    "SitesDict = {}\n",
    "\n",
    "\n",
    "\n",
    "for station_index, station_number in enumerate(station_index_list.drop_duplicates()):\n",
    "    index = station_index_list == station_number # Finind the rows that have this station number.\n",
    "    temp_x_scaled_test = torch.Tensor(x_test_1_scaled)\n",
    "    temp_y_scaled_test = torch.Tensor(y_scaled_test_1)\n",
    "    index_np = torch.tensor(index.to_numpy())\n",
    "\n",
    "    test_dataset = TensorDataset(temp_x_scaled_test[index_np], temp_y_scaled_test[index_np])\n",
    "    test_loader = DataLoader(test_dataset, batch_size=test_dataset.tensors[0].shape[0], shuffle=False)\n",
    "    \n",
    "    # Evaluation\n",
    "    yhat_test = mlp_model.evaluate_model(test_loader)\n",
    "    \n",
    "    # Invert scaling for actual\n",
    "    inv_yhat_test = scaler.inverse_transform(yhat_test.numpy())\n",
    "    inv_yhat_test[inv_yhat_test<0] = 0 # THIS IS NOT CORRECT !!!!!!!!!!!!!!!\n",
    "    nwm_test = pd.DataFrame(inv_yhat_test, columns=['MLP_flow'])\n",
    "    Dfs = [nwm_test.reset_index(drop=True), x_test_temp[index].reset_index(drop=True)]\n",
    "\n",
    "    #get reach id for model eval\n",
    "    nhdreach = utils.crosswalk(usgs_site_codes=station_number)\n",
    "    nhdreach = nhdreach['nwm_feature_id'].iloc[0]\n",
    "    \n",
    "    #save predictions\n",
    "    #save_path = f\"./Predictions/Hindcast/{mod}/{mod}_{nhdreach}.csv\"\n",
    "    #nwm_test.to_csv(save_path)\n",
    "    \n",
    "    # merge\n",
    "    Eval_DF_mine = pd.concat(Dfs, axis=1)\n",
    "    SitesDict[nhdreach] = Eval_DF_mine\n",
    "    prediction_columns = ['NWM_flow', f\"{mod}_flow\"]\n",
    "    observation_column = 'flow_cfs'\n",
    "    result = evtab(Eval_DF_mine, prediction_columns, nhdreach, observation_column, mod)\n",
    "    \n",
    "    #save model performance\n",
    "    EvalDF[station_index, :] = result[0]\n",
    "    SupplyEvalDF[station_index, :] = result[1]\n",
    "    \n",
    "    \n",
    "\n",
    "print('finish')\n"
   ]
  },
  {
   "cell_type": "code",
   "execution_count": null,
   "id": "758c3596-8e20-4446-90f8-e0769e0d6d36",
   "metadata": {},
   "outputs": [],
   "source": []
  },
  {
   "cell_type": "code",
   "execution_count": null,
   "id": "d8e3a8a4-abdb-4fe9-99ff-d8c9ee158532",
   "metadata": {},
   "outputs": [],
   "source": []
  },
  {
   "cell_type": "code",
   "execution_count": null,
   "id": "24d9a165-c45f-4eb3-a36f-363f6457305f",
   "metadata": {},
   "outputs": [],
   "source": [
    "from evalaution_table import evtab\n",
    "# # Build and load the model\n",
    "device = torch.device('cpu') # for some reason had to change to cpu\n",
    "models = nn.Sequential(\n",
    "    nn.Linear(x_test_1_scaled.shape[1], LD1),\n",
    "    nn.ReLU(),\n",
    "    nn.Linear(LD1, LD2),\n",
    "    nn.ReLU(),\n",
    "    nn.Linear(LD2, LD3),\n",
    "    nn.ReLU(),\n",
    "    nn.Linear(LD3, LD4),\n",
    "    nn.ReLU(),\n",
    "    nn.Linear(LD4, LD5),\n",
    "    nn.ReLU(),\n",
    "    nn.Linear(LD5, LD6),\n",
    "    nn.ReLU(),\n",
    "    nn.Linear(LD6, 1)\n",
    ").to(device)\n",
    "\n",
    "models.load_state_dict(torch.load(f\"{path_01}03.output/mlp/mlp_model.pkl\", map_location=torch.device('cpu')))\n",
    "\n",
    "EvalDF = np.zeros([len(tation_index_list.drop_duplicates()), 10])\n",
    "SupplyEvalDF = np.zeros([len(tation_index_list.drop_duplicates()), 10])\n",
    "\n",
    "SitesDict = {}\n",
    "\n",
    "for station_index, station_number in enumerate(station_index_list.drop_duplicates()):\n",
    "    index = station_index_list == station_number # Finind the rows that have this station number.\n",
    "    X_test_scaled = torch.Tensor(x_test_1_scaled[index])\n",
    "    \n",
    "    # Evaluation\n",
    "    models.eval()\n",
    "    with torch.no_grad():\n",
    "        yhat_test= models(X_test_scaled)\n",
    "\n",
    "    # Invert scaling for actual\n",
    "    inv_yhat_test = scaler.inverse_transform(yhat_test.numpy())\n",
    "    inv_yhat_test[inv_yhat_test<0] = 0 # THIS IS NOT CORRECT !!!!!!!!!!!!!!!\n",
    "    nwm_test = pd.DataFrame(inv_yhat_test, columns=['MLP_flow'])\n",
    "    Dfs = [nwm_test.reset_index(drop=True), x_test_temp[index].reset_index(drop=True)]\n",
    "\n",
    "    #get reach id for model eval\n",
    "    nhdreach = utils.crosswalk(usgs_site_codes=station_number)\n",
    "    nhdreach = nhdreach['nwm_feature_id'].iloc[0]\n",
    "    \n",
    "    #save predictions\n",
    "    save_path = f\"./Predictions/Hindcast/{mod}/{mod}_{nhdreach}.csv\"\n",
    "    #nwm_test.to_csv(save_path)\n",
    "    \n",
    "    # merge\n",
    "    Eval_DF_mine = pd.concat(Dfs, axis=1)\n",
    "    SitesDict[nhdreach] = Eval_DF_mine\n",
    "    prediction_columns = ['NWM_flow', f\"{mod}_flow\"]\n",
    "    observation_column = 'flow_cfs'\n",
    "    result = evtab(Eval_DF_mine, prediction_columns, nhdreach, observation_column, mod)\n",
    "    \n",
    "    #save model performance\n",
    "    EvalDF[station_index, :] = temp[0]\n",
    "    SupplyEvalDF[station_index, :] = temp[1]\n",
    "    \n",
    "    \n",
    "\n",
    "print('finish')\n"
   ]
  },
  {
   "cell_type": "code",
   "execution_count": null,
   "id": "73b841bd-7a81-44f7-9332-245d47b6bc93",
   "metadata": {},
   "outputs": [],
   "source": [
    "#put the model scores into a dataframe for comparison\n",
    "mod = 'MLP'\n",
    "#Evaluation columns for prediction time series\n",
    "cols = ['USGSid', 'NHDPlusid', 'NWM_rmse', f\"{mod}_rmse\", 'NWM_pbias', f\"{mod}_pbias\", \n",
    "        'NWM_kge', f\"{mod}__kge\", 'NWM_mape',  f\"{mod}_mape\"]\n",
    "\n",
    "#Evaluation columns for accumulated supply time series\n",
    "supcols = ['USGSid', 'NHDPlusid', 'NWM_rmse', f\"{mod}_rmse\", 'NWM_pbias', f\"{mod}_pbias\", \n",
    "        'NWM_kge', f\"{mod}__kge\", 'NWM_mape',  f\"{mod}_mape\", 'Obs_vol', 'NWM_vol', f\"{mod}_vol\",\n",
    "        'NWM_vol_err', f\"{mod}_vol_err\", 'NWM_vol_Perc_diff', f\"{mod}_vol_Perc_diff\"]\n",
    "    \n",
    "#save model results\n",
    "EvalDF = pd.DataFrame(EvalDF, columns=cols)\n",
    "SupplyEvalDF = pd.DataFrame(SupplyEvalDF, columns=supcols)\n",
    "\n",
    "#EvalDF.to_csv(f\"./Predictions/Hindcast/{mod}/{mod}_Performance.csv\")   \n",
    "#SupplyEvalDF.to_csv(f\"./Predictions/Hindcast/{mod}/{mod}_Supply_Performance.csv\")\n"
   ]
  },
  {
   "cell_type": "code",
   "execution_count": null,
   "id": "14e040fc-16b8-4409-b1bc-5efffa795f84",
   "metadata": {},
   "outputs": [],
   "source": [
    "# I should change EvalDf and SupplyEvalDF to numpy arrays and make class for the models\n"
   ]
  },
  {
   "cell_type": "code",
   "execution_count": null,
   "id": "3b2dea70-6237-48e0-ad91-a93de9b01084",
   "metadata": {},
   "outputs": [],
   "source": [
    "print(\"Model Performance for Daily cfs\")\n",
    "display(EvalDF)   \n",
    "print(\"Model Performance for Daily Accumulated Supply (Acre-Feet)\")\n",
    "display(SupplyEvalDF )"
   ]
  },
  {
   "cell_type": "code",
   "execution_count": null,
   "id": "20b61f36-afea-44f4-a035-795fffd87f79",
   "metadata": {},
   "outputs": [],
   "source": [
    "print(\"Model Performance for Daily cfs\")\n",
    "display(EvalDF)   \n",
    "print(\"Model Performance for Daily Accumulated Supply (Acre-Feet)\")\n",
    "display(SupplyEvalDF )"
   ]
  },
  {
   "cell_type": "code",
   "execution_count": null,
   "id": "8da49b51-1d1e-4a4d-9e16-f7a7193b2296",
   "metadata": {
    "tags": []
   },
   "outputs": [],
   "source": [
    "#save model results\n",
    "EvalDF.to_csv(f\"./Predictions/Hindcast/{mod}/{mod}_Performance.csv\")"
   ]
  },
  {
   "cell_type": "code",
   "execution_count": null,
   "id": "7ea8ebd4-8ffc-4e0d-8dae-170acfc579ad",
   "metadata": {
    "tags": []
   },
   "outputs": [],
   "source": [
    "import importlib\n",
    "importlib.reload(FigureGenerator)"
   ]
  },
  {
   "cell_type": "code",
   "execution_count": null,
   "id": "0ccb2a06-96bb-4a84-a2e8-b70753a60c8d",
   "metadata": {
    "tags": []
   },
   "outputs": [],
   "source": [
    "import FigureGenerator\n",
    "\n",
    "model = 'MLP'\n",
    "plotname = 'MLP_TS_plot'\n",
    "freq = 'D'\n",
    "supply = True\n",
    "title = 'Observed and Modeled flows for NHDPlus Reaches \\n with Upstream Reservoirs in the Great Salt Lake Basin'\n",
    "FigureGenerator.TS_plot(SitesDict, model, plotname, title, freq, supply)"
   ]
  },
  {
   "cell_type": "code",
   "execution_count": null,
   "id": "f7778762-427f-44ef-bdc9-eb7df4d6089c",
   "metadata": {
    "tags": []
   },
   "outputs": [],
   "source": [
    "plotname = 'MLP_ParityPlot'\n",
    "FigureGenerator.Parity_plot(SitesDict, model, plotname)"
   ]
  },
  {
   "cell_type": "code",
   "execution_count": null,
   "id": "63d175d2-2215-42a9-a8f4-6362891849dc",
   "metadata": {
    "tags": []
   },
   "outputs": [],
   "source": [
    "import AWS_transfer\n",
    "model = 'MLP'\n",
    "state = 'ut'\n",
    "AWS_transfer.Predictions2AWS(model, state)"
   ]
  },
  {
   "cell_type": "code",
   "execution_count": null,
   "id": "fd6cc5cb-9850-4535-a180-e0499407265e",
   "metadata": {},
   "outputs": [],
   "source": [
    "reach = 10273232\n",
    "variables =['NWM_flow', 'Obs_flow']\n",
    "colors = ['blue', 'green']\n",
    "model = 'MLP'\n",
    "plotname = 'NWMFlow'\n",
    "units = 'cfs'\n",
    "y_lab = f\"Flow ({units})\"\n",
    "title = f\"Daily NWM Estimates \\n Reach: {str(reach)}\"\n",
    "\n",
    "\n",
    "FigureGenerator.Var_TS_plot(SitesDict, reach, variables, colors, model,y_lab, plotname, title, units, supply = False)"
   ]
  },
  {
   "cell_type": "code",
   "execution_count": null,
   "id": "c3481cdd-b452-42b7-a4bd-c8e4908eab8c",
   "metadata": {},
   "outputs": [],
   "source": []
  },
  {
   "cell_type": "code",
   "execution_count": null,
   "id": "732d00f6-8d35-41d2-a22f-24628641d937",
   "metadata": {},
   "outputs": [],
   "source": []
  },
  {
   "cell_type": "code",
   "execution_count": null,
   "id": "b86eb3a3-5dcf-4d73-9aa1-822189a5537c",
   "metadata": {},
   "outputs": [],
   "source": []
  },
  {
   "cell_type": "code",
   "execution_count": null,
   "id": "e1f23204-4bfb-49a0-8f3b-5990ff066364",
   "metadata": {},
   "outputs": [],
   "source": []
  },
  {
   "cell_type": "code",
   "execution_count": null,
   "id": "64b0c509-8361-42c7-8937-33722c390e2d",
   "metadata": {},
   "outputs": [],
   "source": []
  },
  {
   "cell_type": "code",
   "execution_count": null,
   "id": "fabc0614-b8fc-4e2a-bd06-768436a3f70a",
   "metadata": {},
   "outputs": [],
   "source": []
  },
  {
   "cell_type": "code",
   "execution_count": 4,
   "id": "0653b04f-61ac-4bd3-ab2b-4ea0de1b014d",
   "metadata": {},
   "outputs": [
    {
     "data": {
      "image/png": "[encoded data removed]",
      "text/plain": [
       "<Figure size 640x480 with 6 Axes>"
      ]
     },
     "metadata": {},
     "output_type": "display_data"
    }
   ],
   "source": [
    "import matplotlib.pyplot as plt\n",
    "import numpy as np\n",
    "\n",
    "# Fixing random state for reproducibility\n",
    "np.random.seed(19680801)\n",
    "\n",
    "x = np.random.rand(10)\n",
    "y = np.random.rand(10)\n",
    "z = np.sqrt(x**2 + y**2)\n",
    "\n",
    "fig, axs = plt.subplots(2, 3,layout=\"constrained\")\n",
    "\n",
    "# Matplotlib marker symbol\n",
    "axs[0, 0].scatter(x, y, s=80, c=z, marker=\">\")\n",
    "axs[0, 0].set_title(\"marker='>'\")\n",
    "\n",
    "# marker from TeX: passing a TeX symbol name enclosed in $-signs\n",
    "axs[0, 1].scatter(x, y, s=80, c=z, marker=r\"$\\clubsuit$\")\n",
    "axs[0, 1].set_title(r\"marker=r'\\$\\clubsuit\\$'\")\n",
    "\n",
    "# marker from path: passing a custom path of N vertices as a (N, 2) array-like\n",
    "verts = [[-1, -1], [1, -1], [1, 1], [-1, -1]]\n",
    "axs[0, 2].scatter(x, y, s=80, c=z, marker=verts)\n",
    "axs[0, 2].set_title(\"marker=verts\")\n",
    "\n",
    "# regular pentagon marker\n",
    "axs[1, 0].scatter(x, y, s=80, c=z, marker=(5, 0))\n",
    "axs[1, 0].set_title(\"marker=(5, 0)\")\n",
    "\n",
    "# regular 5-pointed star marker\n",
    "axs[1, 1].scatter(x, y, s=80, c=z, marker=(5, 1))\n",
    "axs[1, 1].set_title(\"marker=(5, 1)\")\n",
    "\n",
    "# regular 5-pointed asterisk marker\n",
    "axs[1, 2].scatter(x, y, s=80, c=z, marker=(5, 2))\n",
    "axs[1, 2].set_title(\"marker=(5, 2)\")\n",
    "\n",
    "plt.show()\n"
   ]
  },
  {
   "cell_type": "code",
   "execution_count": null,
   "id": "240b620a-48e0-4ddb-97da-bc702fa7ab7b",
   "metadata": {},
   "outputs": [],
   "source": []
  },
  {
   "cell_type": "code",
   "execution_count": 27,
   "id": "bc3e6cf7-99c3-4071-bb94-eb4957e58ade",
   "metadata": {},
   "outputs": [
    {
     "data": {
      "text/plain": [
       "7"
      ]
     },
     "execution_count": 27,
     "metadata": {},
     "output_type": "execute_result"
    }
   ],
   "source": [
    "n_subplots"
   ]
  },
  {
   "cell_type": "code",
   "execution_count": 33,
   "id": "87fbd695-3aee-4734-8dc3-d44c664882ca",
   "metadata": {},
   "outputs": [
    {
     "name": "stdout",
     "output_type": "stream",
     "text": [
      "0\n",
      "1\n",
      "2\n",
      "3\n",
      "4\n",
      "5\n",
      "6\n",
      "7\n",
      "8\n"
     ]
    },
    {
     "data": {
      "image/png": "[encoded data removed]",
      "text/plain": [
       "<Figure size 1200x1200 with 9 Axes>"
      ]
     },
     "metadata": {},
     "output_type": "display_data"
    }
   ],
   "source": [
    "import matplotlib.pyplot as plt\n",
    "import math\n",
    "\n",
    "# Example usage\n",
    "datasets = [\n",
    "    ([0, 1, 2], [0, 1, 2]),\n",
    "    ([0, 1, 2], [1, 2, 3]),\n",
    "    ([0, 1, 2], [1, 2, 3]),\n",
    "    ([0, 1, 2], [1, 2, 3]),\n",
    "    ([0, 1, 2], [1, 2, 3]),\n",
    "    ([0, 1, 2], [1, 2, 3]),\n",
    "    ([0, 1, 2], [1, 2, 3]),\n",
    "    # Add more dataset pairs as needed\n",
    "]\n",
    "figsize=(12, 12)\n",
    "n_subplots = len(datasets)\n",
    "n_cols = int(math.ceil(math.sqrt(n_subplots)))\n",
    "n_rows = int(math.ceil(n_subplots / n_cols))\n",
    "\n",
    "\n",
    "# Using sharey=True to share the Y-axis across each row\n",
    "fig, axes = plt.subplots(n_rows, n_cols, figsize=figsize, sharey=True)\n",
    "axes = axes.flatten()  # Flatten the axes array for easy iteration\n",
    "\n",
    "for i, ax in enumerate(axes):\n",
    "    print(i)\n",
    "    if i < n_subplots:\n",
    "        ax.plot(datasets[i][0], datasets[i][1])\n",
    "\n",
    "        if i // n_cols == n_rows - 1:\n",
    "            ax.set_xlabel('X-axis label')\n",
    "\n",
    "\n",
    "        if i % n_cols == 0:\n",
    "            ax.set_ylabel('Y-axis label')\n",
    "    else:\n",
    "        ax.axis('off')\n",
    "\n",
    "plt.tight_layout()\n",
    "plt.show()\n",
    "\n"
   ]
  }
 ],
 "metadata": {
  "kernelspec": {
   "display_name": "ciroh_pytorch_gpu_00",
   "language": "python",
   "name": "ciroh_pytorch_gpu_00"
  },
  "language_info": {
   "codemirror_mode": {
    "name": "ipython",
    "version": 3
   },
   "file_extension": ".py",
   "mimetype": "text/x-python",
   "name": "python",
   "nbconvert_exporter": "python",
   "pygments_lexer": "ipython3",
   "version": "3.11.7"
  }
 },
 "nbformat": 4,
 "nbformat_minor": 5
}
