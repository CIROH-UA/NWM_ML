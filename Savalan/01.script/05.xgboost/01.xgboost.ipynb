{
 "cells": [
  {
   "cell_type": "code",
   "execution_count": 1,
   "id": "initial_id",
   "metadata": {
    "ExecuteTime": {
     "end_time": "2023-11-09T04:18:40.666198Z",
     "start_time": "2023-11-09T04:18:40.658467Z"
    },
    "tags": []
   },
   "outputs": [
    {
     "name": "stderr",
     "output_type": "stream",
     "text": [
      "/home/jovyan/envs/NWMML_env/lib/python3.9/site-packages/scipy/__init__.py:146: UserWarning: A NumPy version >=1.16.5 and <1.23.0 is required for this version of SciPy (detected version 1.26.0\n",
      "  warnings.warn(f\"A NumPy version >={np_minversion} and <{np_maxversion}\"\n"
     ]
    }
   ],
   "source": [
    "# Hydrological packages\n",
    "import hydroeval as he\n",
    "from hydrotools.nwm_client import utils # I had to pip install this\n",
    "import joblib\n",
    "\n",
    "# My packages\n",
    "from g_evaluation_metric import MAPE, RMSE, KGE, PBias\n",
    "from s_evalaution_table import evtab\n",
    "import s_FigureGenerator\n",
    "from g_xgboost import XGBoostRegressorCV\n",
    "\n",
    "# Basic packages\n",
    "import matplotlib.pyplot as plt\n",
    "import numpy as np\n",
    "import pandas as pd\n",
    "import os\n",
    "\n",
    "# System packages\n",
    "from progressbar import ProgressBar\n",
    "from datetime import datetime, date\n",
    "import pickle\n",
    "import warnings\n",
    "warnings.filterwarnings(\"ignore\")\n",
    "import platform\n",
    "import time\n",
    "\n",
    "# Data analysis packages\n",
    "\n",
    "from xgboost import XGBRegressor\n",
    "from scipy import optimize\n",
    "from sklearn.metrics import mean_absolute_percentage_error\n",
    "from sklearn.model_selection import train_test_split\n",
    "from sklearn.preprocessing import MinMaxScaler\n",
    "from sklearn.metrics import mean_squared_error\n",
    "from sklearn.metrics import mean_absolute_percentage_error\n",
    "from sklearn.model_selection import GridSearchCV, RandomizedSearchCV\n",
    "from sklearn.model_selection import RepeatedKFold\n",
    "from sklearn.model_selection import cross_val_score\n",
    "from sklearn.model_selection import train_test_split\n"
   ]
  },
  {
   "cell_type": "code",
   "execution_count": 2,
   "id": "e58486c593749230",
   "metadata": {
    "ExecuteTime": {
     "end_time": "2023-11-09T04:18:41.288250Z",
     "start_time": "2023-11-09T04:18:41.280798Z"
    },
    "collapsed": false,
    "jupyter": {
     "outputs_hidden": false
    },
    "tags": []
   },
   "outputs": [],
   "source": [
    "#load access key\n",
    "HOME = os.path.expanduser('~')\n",
    "\n",
    "path_general = f'{HOME}/NWM-ML/Savalan/'\n",
    "path_model_save = f\"{path_general}/03.output/05.xgboost/03.model_parameters/\"\n",
    "path_save_data = f\"{path_general}/03.output/05.xgboost/02.data/\" \n",
    "path_save_figure = f\"{path_general}/03.output/05.xgboost/01.figures\""
   ]
  },
  {
   "cell_type": "markdown",
   "id": "1fa0368f-1705-46bd-837c-bfe2f970a7ef",
   "metadata": {},
   "source": [
    "## 2. Prepare the data."
   ]
  },
  {
   "cell_type": "code",
   "execution_count": 3,
   "id": "894c64e4a7611ac3",
   "metadata": {
    "ExecuteTime": {
     "end_time": "2023-11-09T04:18:43.689720Z",
     "start_time": "2023-11-09T04:18:43.650794Z"
    },
    "collapsed": false,
    "jupyter": {
     "outputs_hidden": false
    },
    "tags": []
   },
   "outputs": [
    {
     "data": {
      "text/html": [
       "<div>\n",
       "<style scoped>\n",
       "    .dataframe tbody tr th:only-of-type {\n",
       "        vertical-align: middle;\n",
       "    }\n",
       "\n",
       "    .dataframe tbody tr th {\n",
       "        vertical-align: top;\n",
       "    }\n",
       "\n",
       "    .dataframe thead th {\n",
       "        text-align: right;\n",
       "    }\n",
       "</style>\n",
       "<table border=\"1\" class=\"dataframe\">\n",
       "  <thead>\n",
       "    <tr style=\"text-align: right;\">\n",
       "      <th></th>\n",
       "      <th>station_id</th>\n",
       "      <th>Lat</th>\n",
       "      <th>Long</th>\n",
       "      <th>Drainage_area_mi2</th>\n",
       "      <th>Mean_Basin_Elev_ft</th>\n",
       "      <th>Perc_Forest</th>\n",
       "      <th>Perc_Develop</th>\n",
       "      <th>Perc_Imperv</th>\n",
       "      <th>Perc_Herbace</th>\n",
       "      <th>Perc_Slop_30</th>\n",
       "      <th>Mean_Ann_Precip_in</th>\n",
       "      <th>datetime</th>\n",
       "      <th>flow_cfs</th>\n",
       "      <th>s1</th>\n",
       "      <th>s2</th>\n",
       "      <th>storage</th>\n",
       "      <th>swe</th>\n",
       "      <th>NWM_flow</th>\n",
       "      <th>DOY</th>\n",
       "    </tr>\n",
       "  </thead>\n",
       "  <tbody>\n",
       "    <tr>\n",
       "      <th>0</th>\n",
       "      <td>10011500</td>\n",
       "      <td>40.965225</td>\n",
       "      <td>-110.853508</td>\n",
       "      <td>174.0</td>\n",
       "      <td>9720.0</td>\n",
       "      <td>67.7</td>\n",
       "      <td>1.2</td>\n",
       "      <td>0.12</td>\n",
       "      <td>2.94</td>\n",
       "      <td>27.2</td>\n",
       "      <td>34.8</td>\n",
       "      <td>2010-10-28</td>\n",
       "      <td>78.55521</td>\n",
       "      <td>-0.891007</td>\n",
       "      <td>-0.453991</td>\n",
       "      <td>0.0</td>\n",
       "      <td>1.2</td>\n",
       "      <td>55.0</td>\n",
       "      <td>301</td>\n",
       "    </tr>\n",
       "    <tr>\n",
       "      <th>1</th>\n",
       "      <td>10011500</td>\n",
       "      <td>40.965225</td>\n",
       "      <td>-110.853508</td>\n",
       "      <td>174.0</td>\n",
       "      <td>9720.0</td>\n",
       "      <td>67.7</td>\n",
       "      <td>1.2</td>\n",
       "      <td>0.12</td>\n",
       "      <td>2.94</td>\n",
       "      <td>27.2</td>\n",
       "      <td>34.8</td>\n",
       "      <td>2010-10-29</td>\n",
       "      <td>98.61146</td>\n",
       "      <td>-0.891007</td>\n",
       "      <td>-0.453991</td>\n",
       "      <td>0.0</td>\n",
       "      <td>1.2</td>\n",
       "      <td>55.0</td>\n",
       "      <td>302</td>\n",
       "    </tr>\n",
       "    <tr>\n",
       "      <th>2</th>\n",
       "      <td>10011500</td>\n",
       "      <td>40.965225</td>\n",
       "      <td>-110.853508</td>\n",
       "      <td>174.0</td>\n",
       "      <td>9720.0</td>\n",
       "      <td>67.7</td>\n",
       "      <td>1.2</td>\n",
       "      <td>0.12</td>\n",
       "      <td>2.94</td>\n",
       "      <td>27.2</td>\n",
       "      <td>34.8</td>\n",
       "      <td>2010-10-30</td>\n",
       "      <td>97.60208</td>\n",
       "      <td>-0.891007</td>\n",
       "      <td>-0.453991</td>\n",
       "      <td>0.0</td>\n",
       "      <td>1.1</td>\n",
       "      <td>54.0</td>\n",
       "      <td>303</td>\n",
       "    </tr>\n",
       "    <tr>\n",
       "      <th>3</th>\n",
       "      <td>10011500</td>\n",
       "      <td>40.965225</td>\n",
       "      <td>-110.853508</td>\n",
       "      <td>174.0</td>\n",
       "      <td>9720.0</td>\n",
       "      <td>67.7</td>\n",
       "      <td>1.2</td>\n",
       "      <td>0.12</td>\n",
       "      <td>2.94</td>\n",
       "      <td>27.2</td>\n",
       "      <td>34.8</td>\n",
       "      <td>2010-10-31</td>\n",
       "      <td>99.33125</td>\n",
       "      <td>-0.891007</td>\n",
       "      <td>-0.453991</td>\n",
       "      <td>0.0</td>\n",
       "      <td>1.2</td>\n",
       "      <td>54.0</td>\n",
       "      <td>304</td>\n",
       "    </tr>\n",
       "    <tr>\n",
       "      <th>4</th>\n",
       "      <td>10011500</td>\n",
       "      <td>40.965225</td>\n",
       "      <td>-110.853508</td>\n",
       "      <td>174.0</td>\n",
       "      <td>9720.0</td>\n",
       "      <td>67.7</td>\n",
       "      <td>1.2</td>\n",
       "      <td>0.12</td>\n",
       "      <td>2.94</td>\n",
       "      <td>27.2</td>\n",
       "      <td>34.8</td>\n",
       "      <td>2010-11-01</td>\n",
       "      <td>95.76354</td>\n",
       "      <td>-0.998630</td>\n",
       "      <td>0.052336</td>\n",
       "      <td>0.0</td>\n",
       "      <td>1.2</td>\n",
       "      <td>54.0</td>\n",
       "      <td>305</td>\n",
       "    </tr>\n",
       "  </tbody>\n",
       "</table>\n",
       "</div>"
      ],
      "text/plain": [
       "  station_id        Lat        Long  Drainage_area_mi2  Mean_Basin_Elev_ft  \\\n",
       "0   10011500  40.965225 -110.853508              174.0              9720.0   \n",
       "1   10011500  40.965225 -110.853508              174.0              9720.0   \n",
       "2   10011500  40.965225 -110.853508              174.0              9720.0   \n",
       "3   10011500  40.965225 -110.853508              174.0              9720.0   \n",
       "4   10011500  40.965225 -110.853508              174.0              9720.0   \n",
       "\n",
       "   Perc_Forest  Perc_Develop  Perc_Imperv  Perc_Herbace  Perc_Slop_30  \\\n",
       "0         67.7           1.2         0.12          2.94          27.2   \n",
       "1         67.7           1.2         0.12          2.94          27.2   \n",
       "2         67.7           1.2         0.12          2.94          27.2   \n",
       "3         67.7           1.2         0.12          2.94          27.2   \n",
       "4         67.7           1.2         0.12          2.94          27.2   \n",
       "\n",
       "   Mean_Ann_Precip_in    datetime  flow_cfs        s1        s2  storage  swe  \\\n",
       "0                34.8  2010-10-28  78.55521 -0.891007 -0.453991      0.0  1.2   \n",
       "1                34.8  2010-10-29  98.61146 -0.891007 -0.453991      0.0  1.2   \n",
       "2                34.8  2010-10-30  97.60208 -0.891007 -0.453991      0.0  1.1   \n",
       "3                34.8  2010-10-31  99.33125 -0.891007 -0.453991      0.0  1.2   \n",
       "4                34.8  2010-11-01  95.76354 -0.998630  0.052336      0.0  1.2   \n",
       "\n",
       "   NWM_flow  DOY  \n",
       "0      55.0  301  \n",
       "1      55.0  302  \n",
       "2      54.0  303  \n",
       "3      54.0  304  \n",
       "4      54.0  305  "
      ]
     },
     "execution_count": 3,
     "metadata": {},
     "output_type": "execute_result"
    }
   ],
   "source": [
    "raw_training_data = pd.read_csv(path_general + '03.output/01.data_preparation/raw_training_data.csv')\n",
    "raw_training_data.pop('Unnamed: 0')\n",
    "raw_training_data['station_id'] = raw_training_data['station_id'].astype('str')\n",
    "raw_training_data.head()"
   ]
  },
  {
   "cell_type": "code",
   "execution_count": 4,
   "id": "4f58d9b00594ff3a",
   "metadata": {
    "ExecuteTime": {
     "end_time": "2023-11-10T04:40:23.114069Z",
     "start_time": "2023-11-10T04:40:23.082463Z"
    },
    "collapsed": false,
    "jupyter": {
     "outputs_hidden": false
    },
    "tags": []
   },
   "outputs": [],
   "source": [
    "Training_DF = raw_training_data.copy()"
   ]
  },
  {
   "cell_type": "markdown",
   "id": "ef3d8ff5-b95a-40ed-af26-9029e1b54947",
   "metadata": {},
   "source": [
    "### Editing the features based on the feature importance should be in the next cell!!!!!!!!!!!!!!!"
   ]
  },
  {
   "cell_type": "code",
   "execution_count": 5,
   "id": "ef8b8226-79f9-4f8d-8528-8989050bbdea",
   "metadata": {
    "tags": []
   },
   "outputs": [],
   "source": [
    "# Editing the features based on the feature importance should be done here!!!!!!!!!!!!!!!\n",
    "\n",
    "Training_DF.drop(['Mean_Ann_Precip_in', 'Perc_Herbace', 'Perc_Forest',\n",
    "                        'Mean_Basin_Elev_ft'], axis=1, inplace=True)  # 'precipitation_in', 'temperature_F',\n"
   ]
  },
  {
   "cell_type": "markdown",
   "id": "3765d89e-a4e4-481d-bdd1-f708678004af",
   "metadata": {
    "tags": []
   },
   "source": [
    "### Remove headwater stations!!!!!!!"
   ]
  },
  {
   "cell_type": "code",
   "execution_count": 6,
   "id": "e2172979-7110-45a7-9778-e30173e34736",
   "metadata": {
    "tags": []
   },
   "outputs": [],
   "source": [
    "headwater_stations = ['10011500', '10109000', '10113500', '10128500', '10131000', '10146400', '10150500', '10154200',\n",
    "'10172700', '10172800', '10172952']\n",
    "Training_DF = Training_DF[~raw_training_data['station_id'].isin(headwater_stations)]"
   ]
  },
  {
   "cell_type": "code",
   "execution_count": 7,
   "id": "be2448b6151fb377",
   "metadata": {
    "ExecuteTime": {
     "end_time": "2023-11-10T04:40:30.482191Z",
     "start_time": "2023-11-10T04:40:30.463560Z"
    },
    "collapsed": false,
    "jupyter": {
     "outputs_hidden": false
    },
    "tags": []
   },
   "outputs": [
    {
     "data": {
      "text/html": [
       "<div>\n",
       "<style scoped>\n",
       "    .dataframe tbody tr th:only-of-type {\n",
       "        vertical-align: middle;\n",
       "    }\n",
       "\n",
       "    .dataframe tbody tr th {\n",
       "        vertical-align: top;\n",
       "    }\n",
       "\n",
       "    .dataframe thead th {\n",
       "        text-align: right;\n",
       "    }\n",
       "</style>\n",
       "<table border=\"1\" class=\"dataframe\">\n",
       "  <thead>\n",
       "    <tr style=\"text-align: right;\">\n",
       "      <th></th>\n",
       "      <th>station_id</th>\n",
       "      <th>Lat</th>\n",
       "      <th>Long</th>\n",
       "      <th>Drainage_area_mi2</th>\n",
       "      <th>Perc_Develop</th>\n",
       "      <th>Perc_Imperv</th>\n",
       "      <th>Perc_Slop_30</th>\n",
       "      <th>datetime</th>\n",
       "      <th>flow_cfs</th>\n",
       "      <th>s1</th>\n",
       "      <th>s2</th>\n",
       "      <th>storage</th>\n",
       "      <th>swe</th>\n",
       "      <th>NWM_flow</th>\n",
       "      <th>DOY</th>\n",
       "    </tr>\n",
       "  </thead>\n",
       "  <tbody>\n",
       "    <tr>\n",
       "      <th>3079</th>\n",
       "      <td>10105900</td>\n",
       "      <td>41.57549</td>\n",
       "      <td>-111.85522</td>\n",
       "      <td>180.0</td>\n",
       "      <td>1.01</td>\n",
       "      <td>0.0653</td>\n",
       "      <td>44.2</td>\n",
       "      <td>1992-10-01</td>\n",
       "      <td>9.250000</td>\n",
       "      <td>-0.891007</td>\n",
       "      <td>-0.453991</td>\n",
       "      <td>0.0</td>\n",
       "      <td>0.0</td>\n",
       "      <td>37.0</td>\n",
       "      <td>275</td>\n",
       "    </tr>\n",
       "    <tr>\n",
       "      <th>3080</th>\n",
       "      <td>10105900</td>\n",
       "      <td>41.57549</td>\n",
       "      <td>-111.85522</td>\n",
       "      <td>180.0</td>\n",
       "      <td>1.01</td>\n",
       "      <td>0.0653</td>\n",
       "      <td>44.2</td>\n",
       "      <td>1992-10-02</td>\n",
       "      <td>8.654167</td>\n",
       "      <td>-0.891007</td>\n",
       "      <td>-0.453991</td>\n",
       "      <td>0.0</td>\n",
       "      <td>0.0</td>\n",
       "      <td>36.0</td>\n",
       "      <td>276</td>\n",
       "    </tr>\n",
       "    <tr>\n",
       "      <th>3081</th>\n",
       "      <td>10105900</td>\n",
       "      <td>41.57549</td>\n",
       "      <td>-111.85522</td>\n",
       "      <td>180.0</td>\n",
       "      <td>1.01</td>\n",
       "      <td>0.0653</td>\n",
       "      <td>44.2</td>\n",
       "      <td>1992-10-03</td>\n",
       "      <td>9.466667</td>\n",
       "      <td>-0.891007</td>\n",
       "      <td>-0.453991</td>\n",
       "      <td>0.0</td>\n",
       "      <td>0.0</td>\n",
       "      <td>36.0</td>\n",
       "      <td>277</td>\n",
       "    </tr>\n",
       "    <tr>\n",
       "      <th>3082</th>\n",
       "      <td>10105900</td>\n",
       "      <td>41.57549</td>\n",
       "      <td>-111.85522</td>\n",
       "      <td>180.0</td>\n",
       "      <td>1.01</td>\n",
       "      <td>0.0653</td>\n",
       "      <td>44.2</td>\n",
       "      <td>1992-10-04</td>\n",
       "      <td>11.833333</td>\n",
       "      <td>-0.891007</td>\n",
       "      <td>-0.453991</td>\n",
       "      <td>0.0</td>\n",
       "      <td>0.0</td>\n",
       "      <td>36.0</td>\n",
       "      <td>278</td>\n",
       "    </tr>\n",
       "    <tr>\n",
       "      <th>3083</th>\n",
       "      <td>10105900</td>\n",
       "      <td>41.57549</td>\n",
       "      <td>-111.85522</td>\n",
       "      <td>180.0</td>\n",
       "      <td>1.01</td>\n",
       "      <td>0.0653</td>\n",
       "      <td>44.2</td>\n",
       "      <td>1992-10-05</td>\n",
       "      <td>10.195833</td>\n",
       "      <td>-0.891007</td>\n",
       "      <td>-0.453991</td>\n",
       "      <td>0.0</td>\n",
       "      <td>0.0</td>\n",
       "      <td>36.0</td>\n",
       "      <td>279</td>\n",
       "    </tr>\n",
       "  </tbody>\n",
       "</table>\n",
       "</div>"
      ],
      "text/plain": [
       "     station_id       Lat       Long  Drainage_area_mi2  Perc_Develop  \\\n",
       "3079   10105900  41.57549 -111.85522              180.0          1.01   \n",
       "3080   10105900  41.57549 -111.85522              180.0          1.01   \n",
       "3081   10105900  41.57549 -111.85522              180.0          1.01   \n",
       "3082   10105900  41.57549 -111.85522              180.0          1.01   \n",
       "3083   10105900  41.57549 -111.85522              180.0          1.01   \n",
       "\n",
       "      Perc_Imperv  Perc_Slop_30   datetime   flow_cfs        s1        s2  \\\n",
       "3079       0.0653          44.2 1992-10-01   9.250000 -0.891007 -0.453991   \n",
       "3080       0.0653          44.2 1992-10-02   8.654167 -0.891007 -0.453991   \n",
       "3081       0.0653          44.2 1992-10-03   9.466667 -0.891007 -0.453991   \n",
       "3082       0.0653          44.2 1992-10-04  11.833333 -0.891007 -0.453991   \n",
       "3083       0.0653          44.2 1992-10-05  10.195833 -0.891007 -0.453991   \n",
       "\n",
       "      storage  swe  NWM_flow  DOY  \n",
       "3079      0.0  0.0      37.0  275  \n",
       "3080      0.0  0.0      36.0  276  \n",
       "3081      0.0  0.0      36.0  277  \n",
       "3082      0.0  0.0      36.0  278  \n",
       "3083      0.0  0.0      36.0  279  "
      ]
     },
     "execution_count": 7,
     "metadata": {},
     "output_type": "execute_result"
    }
   ],
   "source": [
    "Training_DF.datetime = pd.to_datetime(Training_DF.datetime)\n",
    "\n",
    "Training_DF.head()\n"
   ]
  },
  {
   "cell_type": "markdown",
   "id": "15b3d4ea-ba7d-4933-9686-a6cdb77ac9ee",
   "metadata": {},
   "source": [
    "### 2.1. Create the training dataset."
   ]
  },
  {
   "cell_type": "code",
   "execution_count": 8,
   "id": "5a160a8633a96ff7",
   "metadata": {
    "ExecuteTime": {
     "end_time": "2023-11-10T04:40:40.495727Z",
     "start_time": "2023-11-10T04:40:40.474155Z"
    },
    "collapsed": false,
    "jupyter": {
     "outputs_hidden": false
    },
    "tags": []
   },
   "outputs": [
    {
     "data": {
      "text/html": [
       "<div>\n",
       "<style scoped>\n",
       "    .dataframe tbody tr th:only-of-type {\n",
       "        vertical-align: middle;\n",
       "    }\n",
       "\n",
       "    .dataframe tbody tr th {\n",
       "        vertical-align: top;\n",
       "    }\n",
       "\n",
       "    .dataframe thead th {\n",
       "        text-align: right;\n",
       "    }\n",
       "</style>\n",
       "<table border=\"1\" class=\"dataframe\">\n",
       "  <thead>\n",
       "    <tr style=\"text-align: right;\">\n",
       "      <th></th>\n",
       "      <th>Lat</th>\n",
       "      <th>Long</th>\n",
       "      <th>Drainage_area_mi2</th>\n",
       "      <th>Perc_Develop</th>\n",
       "      <th>Perc_Imperv</th>\n",
       "      <th>Perc_Slop_30</th>\n",
       "      <th>s1</th>\n",
       "      <th>s2</th>\n",
       "      <th>storage</th>\n",
       "      <th>swe</th>\n",
       "      <th>NWM_flow</th>\n",
       "      <th>DOY</th>\n",
       "    </tr>\n",
       "  </thead>\n",
       "  <tbody>\n",
       "    <tr>\n",
       "      <th>3079</th>\n",
       "      <td>41.57549</td>\n",
       "      <td>-111.85522</td>\n",
       "      <td>180.0</td>\n",
       "      <td>1.01</td>\n",
       "      <td>0.0653</td>\n",
       "      <td>44.2</td>\n",
       "      <td>-0.891007</td>\n",
       "      <td>-0.453991</td>\n",
       "      <td>0.0</td>\n",
       "      <td>0.0</td>\n",
       "      <td>37.0</td>\n",
       "      <td>275</td>\n",
       "    </tr>\n",
       "    <tr>\n",
       "      <th>3080</th>\n",
       "      <td>41.57549</td>\n",
       "      <td>-111.85522</td>\n",
       "      <td>180.0</td>\n",
       "      <td>1.01</td>\n",
       "      <td>0.0653</td>\n",
       "      <td>44.2</td>\n",
       "      <td>-0.891007</td>\n",
       "      <td>-0.453991</td>\n",
       "      <td>0.0</td>\n",
       "      <td>0.0</td>\n",
       "      <td>36.0</td>\n",
       "      <td>276</td>\n",
       "    </tr>\n",
       "    <tr>\n",
       "      <th>3081</th>\n",
       "      <td>41.57549</td>\n",
       "      <td>-111.85522</td>\n",
       "      <td>180.0</td>\n",
       "      <td>1.01</td>\n",
       "      <td>0.0653</td>\n",
       "      <td>44.2</td>\n",
       "      <td>-0.891007</td>\n",
       "      <td>-0.453991</td>\n",
       "      <td>0.0</td>\n",
       "      <td>0.0</td>\n",
       "      <td>36.0</td>\n",
       "      <td>277</td>\n",
       "    </tr>\n",
       "    <tr>\n",
       "      <th>3082</th>\n",
       "      <td>41.57549</td>\n",
       "      <td>-111.85522</td>\n",
       "      <td>180.0</td>\n",
       "      <td>1.01</td>\n",
       "      <td>0.0653</td>\n",
       "      <td>44.2</td>\n",
       "      <td>-0.891007</td>\n",
       "      <td>-0.453991</td>\n",
       "      <td>0.0</td>\n",
       "      <td>0.0</td>\n",
       "      <td>36.0</td>\n",
       "      <td>278</td>\n",
       "    </tr>\n",
       "    <tr>\n",
       "      <th>3083</th>\n",
       "      <td>41.57549</td>\n",
       "      <td>-111.85522</td>\n",
       "      <td>180.0</td>\n",
       "      <td>1.01</td>\n",
       "      <td>0.0653</td>\n",
       "      <td>44.2</td>\n",
       "      <td>-0.891007</td>\n",
       "      <td>-0.453991</td>\n",
       "      <td>0.0</td>\n",
       "      <td>0.0</td>\n",
       "      <td>36.0</td>\n",
       "      <td>279</td>\n",
       "    </tr>\n",
       "  </tbody>\n",
       "</table>\n",
       "</div>"
      ],
      "text/plain": [
       "           Lat       Long  Drainage_area_mi2  Perc_Develop  Perc_Imperv  \\\n",
       "3079  41.57549 -111.85522              180.0          1.01       0.0653   \n",
       "3080  41.57549 -111.85522              180.0          1.01       0.0653   \n",
       "3081  41.57549 -111.85522              180.0          1.01       0.0653   \n",
       "3082  41.57549 -111.85522              180.0          1.01       0.0653   \n",
       "3083  41.57549 -111.85522              180.0          1.01       0.0653   \n",
       "\n",
       "      Perc_Slop_30        s1        s2  storage  swe  NWM_flow  DOY  \n",
       "3079          44.2 -0.891007 -0.453991      0.0  0.0      37.0  275  \n",
       "3080          44.2 -0.891007 -0.453991      0.0  0.0      36.0  276  \n",
       "3081          44.2 -0.891007 -0.453991      0.0  0.0      36.0  277  \n",
       "3082          44.2 -0.891007 -0.453991      0.0  0.0      36.0  278  \n",
       "3083          44.2 -0.891007 -0.453991      0.0  0.0      36.0  279  "
      ]
     },
     "execution_count": 8,
     "metadata": {},
     "output_type": "execute_result"
    }
   ],
   "source": [
    "# Training is from 1980 to the end of 2015.\n",
    "x_train_temp = Training_DF[Training_DF.datetime < '01-01-2015']\n",
    "x_train_temp.pop('station_id')\n",
    "x_train_temp.pop('datetime')\n",
    "y_train_temp = x_train_temp['flow_cfs']\n",
    "x_train_temp.pop('flow_cfs')\n",
    "x_train_temp.head()"
   ]
  },
  {
   "cell_type": "markdown",
   "id": "a59cef3f-3ef4-4c19-9310-7ddd89c33e7d",
   "metadata": {},
   "source": [
    "#### 2.1.1. Scale the train inputs of the NN model"
   ]
  },
  {
   "cell_type": "code",
   "execution_count": 9,
   "id": "dd0faa488a9e9e44",
   "metadata": {
    "ExecuteTime": {
     "end_time": "2023-11-10T04:40:41.923386Z",
     "start_time": "2023-11-10T04:40:41.912929Z"
    },
    "collapsed": false,
    "jupyter": {
     "outputs_hidden": false
    },
    "tags": []
   },
   "outputs": [],
   "source": [
    "# First we need to convert it from pandas dataframe to a numpy array \n",
    "y_train = y_train_temp.to_numpy()\n",
    "x_train = x_train_temp.to_numpy()\n",
    "scaler = MinMaxScaler()\n",
    "x_train_scaled_test = scaler.fit_transform(x_train)\n",
    "y_train_scaled_test = scaler.fit_transform(y_train.reshape(-1, 1))\n"
   ]
  },
  {
   "cell_type": "code",
   "execution_count": 10,
   "id": "288d7dffbf2edc7e",
   "metadata": {
    "ExecuteTime": {
     "end_time": "2023-11-10T04:40:52.472498Z",
     "start_time": "2023-11-10T04:40:52.464352Z"
    },
    "collapsed": false,
    "jupyter": {
     "outputs_hidden": false
    },
    "tags": []
   },
   "outputs": [
    {
     "name": "stdout",
     "output_type": "stream",
     "text": [
      "train x shape (93299, 12)\n",
      "train y shape (93299, 1)\n"
     ]
    }
   ],
   "source": [
    "# Reshape Input for CNN1D Model\n",
    "\n",
    "print('train x shape', x_train_scaled_test.shape)\n",
    "print('train y shape', y_train_scaled_test.shape)"
   ]
  },
  {
   "cell_type": "markdown",
   "id": "76941a49-50af-4a86-a7d5-84f499382bc1",
   "metadata": {},
   "source": [
    "### 2.2. Create the test dataset. "
   ]
  },
  {
   "cell_type": "code",
   "execution_count": 11,
   "id": "bd46d43cce5d1387",
   "metadata": {
    "ExecuteTime": {
     "end_time": "2023-11-10T04:40:44.100124Z",
     "start_time": "2023-11-10T04:40:44.086373Z"
    },
    "collapsed": false,
    "jupyter": {
     "outputs_hidden": false
    },
    "tags": []
   },
   "outputs": [
    {
     "data": {
      "text/html": [
       "<div>\n",
       "<style scoped>\n",
       "    .dataframe tbody tr th:only-of-type {\n",
       "        vertical-align: middle;\n",
       "    }\n",
       "\n",
       "    .dataframe tbody tr th {\n",
       "        vertical-align: top;\n",
       "    }\n",
       "\n",
       "    .dataframe thead th {\n",
       "        text-align: right;\n",
       "    }\n",
       "</style>\n",
       "<table border=\"1\" class=\"dataframe\">\n",
       "  <thead>\n",
       "    <tr style=\"text-align: right;\">\n",
       "      <th></th>\n",
       "      <th>station_id</th>\n",
       "      <th>Lat</th>\n",
       "      <th>Long</th>\n",
       "      <th>Drainage_area_mi2</th>\n",
       "      <th>Perc_Develop</th>\n",
       "      <th>Perc_Imperv</th>\n",
       "      <th>Perc_Slop_30</th>\n",
       "      <th>datetime</th>\n",
       "      <th>flow_cfs</th>\n",
       "      <th>s1</th>\n",
       "      <th>s2</th>\n",
       "      <th>storage</th>\n",
       "      <th>swe</th>\n",
       "      <th>NWM_flow</th>\n",
       "      <th>DOY</th>\n",
       "    </tr>\n",
       "  </thead>\n",
       "  <tbody>\n",
       "    <tr>\n",
       "      <th>10567</th>\n",
       "      <td>10105900</td>\n",
       "      <td>41.57549</td>\n",
       "      <td>-111.85522</td>\n",
       "      <td>180.0</td>\n",
       "      <td>1.01</td>\n",
       "      <td>0.0653</td>\n",
       "      <td>44.2</td>\n",
       "      <td>2015-01-01</td>\n",
       "      <td>21.627083</td>\n",
       "      <td>-0.438371</td>\n",
       "      <td>0.898794</td>\n",
       "      <td>0.0</td>\n",
       "      <td>5.75</td>\n",
       "      <td>39.0</td>\n",
       "      <td>1</td>\n",
       "    </tr>\n",
       "    <tr>\n",
       "      <th>10568</th>\n",
       "      <td>10105900</td>\n",
       "      <td>41.57549</td>\n",
       "      <td>-111.85522</td>\n",
       "      <td>180.0</td>\n",
       "      <td>1.01</td>\n",
       "      <td>0.0653</td>\n",
       "      <td>44.2</td>\n",
       "      <td>2015-01-02</td>\n",
       "      <td>23.531250</td>\n",
       "      <td>-0.438371</td>\n",
       "      <td>0.898794</td>\n",
       "      <td>0.0</td>\n",
       "      <td>5.75</td>\n",
       "      <td>39.0</td>\n",
       "      <td>2</td>\n",
       "    </tr>\n",
       "    <tr>\n",
       "      <th>10569</th>\n",
       "      <td>10105900</td>\n",
       "      <td>41.57549</td>\n",
       "      <td>-111.85522</td>\n",
       "      <td>180.0</td>\n",
       "      <td>1.01</td>\n",
       "      <td>0.0653</td>\n",
       "      <td>44.2</td>\n",
       "      <td>2015-01-03</td>\n",
       "      <td>25.044792</td>\n",
       "      <td>-0.438371</td>\n",
       "      <td>0.898794</td>\n",
       "      <td>0.0</td>\n",
       "      <td>5.75</td>\n",
       "      <td>39.0</td>\n",
       "      <td>3</td>\n",
       "    </tr>\n",
       "    <tr>\n",
       "      <th>10570</th>\n",
       "      <td>10105900</td>\n",
       "      <td>41.57549</td>\n",
       "      <td>-111.85522</td>\n",
       "      <td>180.0</td>\n",
       "      <td>1.01</td>\n",
       "      <td>0.0653</td>\n",
       "      <td>44.2</td>\n",
       "      <td>2015-01-04</td>\n",
       "      <td>26.103125</td>\n",
       "      <td>-0.438371</td>\n",
       "      <td>0.898794</td>\n",
       "      <td>0.0</td>\n",
       "      <td>5.75</td>\n",
       "      <td>39.0</td>\n",
       "      <td>4</td>\n",
       "    </tr>\n",
       "    <tr>\n",
       "      <th>10571</th>\n",
       "      <td>10105900</td>\n",
       "      <td>41.57549</td>\n",
       "      <td>-111.85522</td>\n",
       "      <td>180.0</td>\n",
       "      <td>1.01</td>\n",
       "      <td>0.0653</td>\n",
       "      <td>44.2</td>\n",
       "      <td>2015-01-05</td>\n",
       "      <td>26.742708</td>\n",
       "      <td>-0.438371</td>\n",
       "      <td>0.898794</td>\n",
       "      <td>0.0</td>\n",
       "      <td>5.75</td>\n",
       "      <td>39.0</td>\n",
       "      <td>5</td>\n",
       "    </tr>\n",
       "  </tbody>\n",
       "</table>\n",
       "</div>"
      ],
      "text/plain": [
       "      station_id       Lat       Long  Drainage_area_mi2  Perc_Develop  \\\n",
       "10567   10105900  41.57549 -111.85522              180.0          1.01   \n",
       "10568   10105900  41.57549 -111.85522              180.0          1.01   \n",
       "10569   10105900  41.57549 -111.85522              180.0          1.01   \n",
       "10570   10105900  41.57549 -111.85522              180.0          1.01   \n",
       "10571   10105900  41.57549 -111.85522              180.0          1.01   \n",
       "\n",
       "       Perc_Imperv  Perc_Slop_30   datetime   flow_cfs        s1        s2  \\\n",
       "10567       0.0653          44.2 2015-01-01  21.627083 -0.438371  0.898794   \n",
       "10568       0.0653          44.2 2015-01-02  23.531250 -0.438371  0.898794   \n",
       "10569       0.0653          44.2 2015-01-03  25.044792 -0.438371  0.898794   \n",
       "10570       0.0653          44.2 2015-01-04  26.103125 -0.438371  0.898794   \n",
       "10571       0.0653          44.2 2015-01-05  26.742708 -0.438371  0.898794   \n",
       "\n",
       "       storage   swe  NWM_flow  DOY  \n",
       "10567      0.0  5.75      39.0    1  \n",
       "10568      0.0  5.75      39.0    2  \n",
       "10569      0.0  5.75      39.0    3  \n",
       "10570      0.0  5.75      39.0    4  \n",
       "10571      0.0  5.75      39.0    5  "
      ]
     },
     "execution_count": 11,
     "metadata": {},
     "output_type": "execute_result"
    }
   ],
   "source": [
    "# Determining the test dataset. \n",
    "x_test_temp = Training_DF[Training_DF.datetime >= '01-01-2015']\n",
    "x_test_temp.head()"
   ]
  },
  {
   "cell_type": "markdown",
   "id": "d8e74d13-09f9-4571-ac2f-1537c281d40c",
   "metadata": {},
   "source": [
    "#### 2.2.1. Scale the test inputs of the NN model"
   ]
  },
  {
   "cell_type": "code",
   "execution_count": 12,
   "id": "b48a068a-2fdd-4ac7-9079-9d35edd9e013",
   "metadata": {
    "tags": []
   },
   "outputs": [],
   "source": [
    "# First we need to convert it from pandas dataframe to a numpy array \n",
    "x_test_temp_1 = x_test_temp.copy()\n",
    "station_index_list = x_test_temp_1['station_id']\n",
    "x_test_temp_1.pop('station_id')\n",
    "x_test_temp_1.pop('datetime')\n",
    "y_test_temp_1 = x_test_temp_1['flow_cfs']\n",
    "x_test_temp_1.pop('flow_cfs')\n",
    "x_test_1_np = x_test_temp_1.reset_index(drop=True).to_numpy()\n",
    "y_test_1_np = y_test_temp_1.reset_index(drop=True).to_numpy()\n",
    "x_test_1_scaled = scaler.fit_transform(x_test_1_np)\n",
    "y_scaled_test_1 = scaler.fit_transform(y_test_1_np.reshape(-1, 1))"
   ]
  },
  {
   "cell_type": "markdown",
   "id": "e300c74d-2653-49bd-9f1d-1aa816b6d2d4",
   "metadata": {},
   "source": [
    "## 3. XGBOOST Model Preparation."
   ]
  },
  {
   "cell_type": "markdown",
   "id": "43bb6fed-f2f4-4817-ab2d-706c21921174",
   "metadata": {},
   "source": [
    "### 3.1. Create the model variables."
   ]
  },
  {
   "cell_type": "code",
   "execution_count": 13,
   "id": "c5c4c288-0803-441e-b65a-8678a1f0b420",
   "metadata": {},
   "outputs": [],
   "source": [
    "model_name='XGBoost'\n",
    "tries = 1\n",
    "hyperparameters = {\n",
    "    'max_depth': range (2, 11, 1),\n",
    "    'n_estimators': range(100, 2100, 200),\n",
    "    'eta': [0.1, 0.01, 0.05]\n",
    "}\n",
    "path_model_save_hyperparameters = f\"{path_model_save}/best_model_hyperparameters.pkl\"\n",
    "path_model_save = f\"{path_model_save}/best_model.pkl\"\n"
   ]
  },
  {
   "cell_type": "markdown",
   "id": "5f9ac50f-5dfc-4723-9685-9720c67e0b13",
   "metadata": {},
   "source": [
    "### 3.2. Create input data."
   ]
  },
  {
   "cell_type": "markdown",
   "id": "56bb3a98-4f35-4f19-8531-53fa18a4339d",
   "metadata": {},
   "source": [
    "### 3.3. Run and evaluate the model\n",
    "Here first we train the model and then we test it.\n",
    "We do it 30 times so we have firm evaluation. "
   ]
  },
  {
   "cell_type": "code",
   "execution_count": 16,
   "id": "d9d16de4-e3bb-41ba-ace9-40c48ec215cc",
   "metadata": {
    "scrolled": true
   },
   "outputs": [
    {
     "name": "stdout",
     "output_type": "stream",
     "text": [
      "Trial Number 0 ==========================================================\n",
      "Model is not trained yet. Please train the model first.\n"
     ]
    },
    {
     "ename": "AttributeError",
     "evalue": "'NoneType' object has no attribute 'reshape'",
     "output_type": "error",
     "traceback": [
      "\u001b[0;31m---------------------------------------------------------------------------\u001b[0m",
      "\u001b[0;31mAttributeError\u001b[0m                            Traceback (most recent call last)",
      "Cell \u001b[0;32mIn[16], line 41\u001b[0m\n\u001b[1;32m     38\u001b[0m yhat_test \u001b[38;5;241m=\u001b[39m xgboost_model\u001b[38;5;241m.\u001b[39mpredict(x_test_1_scaled[index])\n\u001b[1;32m     40\u001b[0m \u001b[38;5;66;03m# Invert scaling for actual and concat it with the rest of the dataset. \u001b[39;00m\n\u001b[0;32m---> 41\u001b[0m inv_yhat_test \u001b[38;5;241m=\u001b[39m scaler\u001b[38;5;241m.\u001b[39minverse_transform(\u001b[43myhat_test\u001b[49m\u001b[38;5;241;43m.\u001b[39;49m\u001b[43mreshape\u001b[49m(\u001b[38;5;241m-\u001b[39m\u001b[38;5;241m1\u001b[39m, \u001b[38;5;241m1\u001b[39m))\n\u001b[1;32m     42\u001b[0m inv_yhat_test[inv_yhat_test\u001b[38;5;241m<\u001b[39m\u001b[38;5;241m0\u001b[39m] \u001b[38;5;241m=\u001b[39m \u001b[38;5;241m0\u001b[39m \u001b[38;5;66;03m# THIS IS NOT CORRECT !!!!!!!!!!!!!!!\u001b[39;00m\n\u001b[1;32m     43\u001b[0m nwm_test \u001b[38;5;241m=\u001b[39m pd\u001b[38;5;241m.\u001b[39mDataFrame(inv_yhat_test, columns\u001b[38;5;241m=\u001b[39m[\u001b[38;5;124mf\u001b[39m\u001b[38;5;124m\"\u001b[39m\u001b[38;5;132;01m{\u001b[39;00mmodel_name\u001b[38;5;132;01m}\u001b[39;00m\u001b[38;5;124m_flow\u001b[39m\u001b[38;5;124m\"\u001b[39m])\n",
      "\u001b[0;31mAttributeError\u001b[0m: 'NoneType' object has no attribute 'reshape'"
     ]
    }
   ],
   "source": [
    "start_time = time.time()\n",
    "\n",
    "# Create variables\n",
    "test_best_val = float('inf')\n",
    "EvalDF = {}\n",
    "SupplyEvalDF = {}\n",
    "EvalDF_all = np.zeros([len(station_index_list.drop_duplicates()), 10])\n",
    "SupplyEvalDF_all = np.zeros([len(station_index_list.drop_duplicates()), 17])\n",
    "\n",
    "# Start running the model several times. \n",
    "for try_number in range(tries):\n",
    "\n",
    "    # Create the variables. \n",
    "    EvalDF[try_number] = np.zeros([len(station_index_list.drop_duplicates()), 10])\n",
    "    SupplyEvalDF[try_number] = np.zeros([len(station_index_list.drop_duplicates()), 17])\n",
    "    SitesDict = {}\n",
    "    val_loss_all = 0\n",
    "    print(f'Trial Number {try_number} ==========================================================')\n",
    "    \n",
    "    # # Set the optimizer, create the model, and train it. \n",
    "    xgboost_model = XGBoostRegressorCV(hyperparameters, path_model_save_hyperparameters)\n",
    "    new_data_len = int(len(x_train_scaled_test) * 0.01)\n",
    "    # xgboost_model.tune_hyperparameters(x_train_scaled_test[:new_data_len, :], y_train_scaled_test[:new_data_len, :])\n",
    "    # xgboost_model.evaluate(x_train_scaled_test[:new_data_len, :], y_train_scaled_test[:new_data_len, :])\n",
    "    # xgboost_model.train(x_train_scaled_test, y_train_scaled_test)\n",
    "    # print('Saving Model')\n",
    "    \n",
    "    # #adjust this to match changing models\n",
    "    # pickle.dump(xgboost_model, open(path_model_save, \"wb\"))  \n",
    "    \n",
    "    # Evaluate it for different stations. \n",
    "    for station_index, station_number in enumerate(station_index_list.drop_duplicates()):\n",
    "        index = station_index_list == station_number # Finind the rows that have this station number.\n",
    "        \n",
    " \n",
    "        \n",
    "        # Evaluation\n",
    "        yhat_test = xgboost_model.predict(x_test_1_scaled[index])\n",
    "        \n",
    "        # Invert scaling for actual and concat it with the rest of the dataset. \n",
    "        inv_yhat_test = scaler.inverse_transform(yhat_test.reshape(-1, 1))\n",
    "        inv_yhat_test[inv_yhat_test<0] = 0 # THIS IS NOT CORRECT !!!!!!!!!!!!!!!\n",
    "        nwm_test = pd.DataFrame(inv_yhat_test, columns=[f\"{model_name}_flow\"])\n",
    "        Dfs = [nwm_test.reset_index(drop=True), x_test_temp[index].reset_index(drop=True)]\n",
    "        Eval_DF_mine = pd.concat(Dfs, axis=1)\n",
    "    \n",
    "        # Get reach id for model eval.\n",
    "        nhdreach = utils.crosswalk(usgs_site_codes=station_number)\n",
    "        nhdreach = nhdreach['nwm_feature_id'].iloc[0]\n",
    "        SitesDict[nhdreach] = Eval_DF_mine\n",
    "        \n",
    "        # Calculate the results. \n",
    "        prediction_columns = ['NWM_flow', f\"{model_name}_flow\"]\n",
    "        observation_column = 'flow_cfs'\n",
    "        result = evtab(Eval_DF_mine, prediction_columns, nhdreach, observation_column, model_name)\n",
    "        EvalDF[try_number][station_index, :] = result[0]\n",
    "        SupplyEvalDF[try_number][station_index, :] = result[1]\n",
    "\n",
    "    # Finding the best model. \n",
    "    # val_loss_all += val_loss\n",
    "    # val_loss_all = val_loss_all / len(station_index_list.drop_duplicates())\n",
    "    # if val_loss_all < test_best_val:\n",
    "    #     test_best_val = val_loss_all\n",
    "    #     best_model_parameters = model_parameters\n",
    "    #     best_try = try_number\n",
    "    #     best_output = SitesDict\n",
    "    EvalDF_all = EvalDF[try_number] + EvalDF_all\n",
    "    SupplyEvalDF_all = SupplyEvalDF[try_number] + SupplyEvalDF_all\n",
    "        \n",
    "# Calculate the average results for all of the trials. \n",
    "EvalDF_all = EvalDF_all / tries\n",
    "SupplyEvalDF_all = SupplyEvalDF_all / tries\n",
    "\n",
    "# Sort the outputs of the best model based on date. \n",
    "keys = list(SitesDict.keys())\n",
    "for key_number in keys:\n",
    "    SitesDict[key_number] = SitesDict[key_number].sort_values(by='datetime')\n",
    "    \n",
    "print('Run is Done!' + \"Run Time:\" + \" %s seconds \" % (time.time() - start_time))\n"
   ]
  },
  {
   "cell_type": "markdown",
   "id": "4e2cc9c7-3cbb-4f03-b29e-623b9a2ed619",
   "metadata": {},
   "source": [
    "### 3.4. Create and save the final results.\n"
   ]
  },
  {
   "cell_type": "code",
   "execution_count": 12,
   "id": "fc566db5-4b37-402e-8626-c382f4d0d9c8",
   "metadata": {},
   "outputs": [
    {
     "ename": "NameError",
     "evalue": "name 'EvalDF_all' is not defined",
     "output_type": "error",
     "traceback": [
      "\u001b[0;31m---------------------------------------------------------------------------\u001b[0m",
      "\u001b[0;31mNameError\u001b[0m                                 Traceback (most recent call last)",
      "Cell \u001b[0;32mIn[12], line 11\u001b[0m\n\u001b[1;32m      6\u001b[0m supcols \u001b[38;5;241m=\u001b[39m [\u001b[38;5;124m'\u001b[39m\u001b[38;5;124mUSGSid\u001b[39m\u001b[38;5;124m'\u001b[39m, \u001b[38;5;124m'\u001b[39m\u001b[38;5;124mNHDPlusid\u001b[39m\u001b[38;5;124m'\u001b[39m, \u001b[38;5;124m'\u001b[39m\u001b[38;5;124mNWM_rmse\u001b[39m\u001b[38;5;124m'\u001b[39m, \u001b[38;5;124mf\u001b[39m\u001b[38;5;124m\"\u001b[39m\u001b[38;5;132;01m{\u001b[39;00mmodel_name\u001b[38;5;132;01m}\u001b[39;00m\u001b[38;5;124m_rmse\u001b[39m\u001b[38;5;124m\"\u001b[39m, \u001b[38;5;124m'\u001b[39m\u001b[38;5;124mNWM_pbias\u001b[39m\u001b[38;5;124m'\u001b[39m, \u001b[38;5;124mf\u001b[39m\u001b[38;5;124m\"\u001b[39m\u001b[38;5;132;01m{\u001b[39;00mmodel_name\u001b[38;5;132;01m}\u001b[39;00m\u001b[38;5;124m_pbias\u001b[39m\u001b[38;5;124m\"\u001b[39m, \n\u001b[1;32m      7\u001b[0m         \u001b[38;5;124m'\u001b[39m\u001b[38;5;124mNWM_kge\u001b[39m\u001b[38;5;124m'\u001b[39m, \u001b[38;5;124mf\u001b[39m\u001b[38;5;124m\"\u001b[39m\u001b[38;5;132;01m{\u001b[39;00mmodel_name\u001b[38;5;132;01m}\u001b[39;00m\u001b[38;5;124m__kge\u001b[39m\u001b[38;5;124m\"\u001b[39m, \u001b[38;5;124m'\u001b[39m\u001b[38;5;124mNWM_mape\u001b[39m\u001b[38;5;124m'\u001b[39m,  \u001b[38;5;124mf\u001b[39m\u001b[38;5;124m\"\u001b[39m\u001b[38;5;132;01m{\u001b[39;00mmodel_name\u001b[38;5;132;01m}\u001b[39;00m\u001b[38;5;124m_mape\u001b[39m\u001b[38;5;124m\"\u001b[39m, \u001b[38;5;124m'\u001b[39m\u001b[38;5;124mObs_vol\u001b[39m\u001b[38;5;124m'\u001b[39m, \u001b[38;5;124m'\u001b[39m\u001b[38;5;124mNWM_vol\u001b[39m\u001b[38;5;124m'\u001b[39m, \u001b[38;5;124mf\u001b[39m\u001b[38;5;124m\"\u001b[39m\u001b[38;5;132;01m{\u001b[39;00mmodel_name\u001b[38;5;132;01m}\u001b[39;00m\u001b[38;5;124m_vol\u001b[39m\u001b[38;5;124m\"\u001b[39m,\n\u001b[1;32m      8\u001b[0m         \u001b[38;5;124m'\u001b[39m\u001b[38;5;124mNWM_vol_err\u001b[39m\u001b[38;5;124m'\u001b[39m, \u001b[38;5;124mf\u001b[39m\u001b[38;5;124m\"\u001b[39m\u001b[38;5;132;01m{\u001b[39;00mmodel_name\u001b[38;5;132;01m}\u001b[39;00m\u001b[38;5;124m_vol_err\u001b[39m\u001b[38;5;124m\"\u001b[39m, \u001b[38;5;124m'\u001b[39m\u001b[38;5;124mNWM_vol_Perc_diff\u001b[39m\u001b[38;5;124m'\u001b[39m, \u001b[38;5;124mf\u001b[39m\u001b[38;5;124m\"\u001b[39m\u001b[38;5;132;01m{\u001b[39;00mmodel_name\u001b[38;5;132;01m}\u001b[39;00m\u001b[38;5;124m_vol_Perc_diff\u001b[39m\u001b[38;5;124m\"\u001b[39m]\n\u001b[1;32m     10\u001b[0m \u001b[38;5;66;03m#save model results\u001b[39;00m\n\u001b[0;32m---> 11\u001b[0m EvalDF_all \u001b[38;5;241m=\u001b[39m pd\u001b[38;5;241m.\u001b[39mDataFrame(\u001b[43mEvalDF_all\u001b[49m, columns\u001b[38;5;241m=\u001b[39mcols)\n\u001b[1;32m     12\u001b[0m SupplyEvalDF_all \u001b[38;5;241m=\u001b[39m pd\u001b[38;5;241m.\u001b[39mDataFrame(SupplyEvalDF_all, columns\u001b[38;5;241m=\u001b[39msupcols)\n\u001b[1;32m     13\u001b[0m EvalDF_all\u001b[38;5;241m.\u001b[39mto_csv(\u001b[38;5;124mf\u001b[39m\u001b[38;5;124m\"\u001b[39m\u001b[38;5;132;01m{\u001b[39;00mpath_save_data\u001b[38;5;132;01m}\u001b[39;00m\u001b[38;5;124m/\u001b[39m\u001b[38;5;132;01m{\u001b[39;00mmodel_name\u001b[38;5;132;01m}\u001b[39;00m\u001b[38;5;124m_Performance.csv\u001b[39m\u001b[38;5;124m\"\u001b[39m)   \n",
      "\u001b[0;31mNameError\u001b[0m: name 'EvalDF_all' is not defined"
     ]
    }
   ],
   "source": [
    "#Evaluation columns for prediction time series\n",
    "cols = ['USGSid', 'NHDPlusid', 'NWM_rmse', f\"{model_name}_rmse\", 'NWM_pbias', f\"{model_name}_pbias\", \n",
    "        'NWM_kge', f\"{model_name}__kge\", 'NWM_mape',  f\"{model_name}_mape\"]\n",
    "\n",
    "#Evaluation columns for accumulated supply time series\n",
    "supcols = ['USGSid', 'NHDPlusid', 'NWM_rmse', f\"{model_name}_rmse\", 'NWM_pbias', f\"{model_name}_pbias\", \n",
    "        'NWM_kge', f\"{model_name}__kge\", 'NWM_mape',  f\"{model_name}_mape\", 'Obs_vol', 'NWM_vol', f\"{model_name}_vol\",\n",
    "        'NWM_vol_err', f\"{model_name}_vol_err\", 'NWM_vol_Perc_diff', f\"{model_name}_vol_Perc_diff\"]\n",
    "    \n",
    "#save model results\n",
    "EvalDF_all = pd.DataFrame(EvalDF_all, columns=cols)\n",
    "SupplyEvalDF_all = pd.DataFrame(SupplyEvalDF_all, columns=supcols)\n",
    "EvalDF_all.to_csv(f\"{path_save_data}/{model_name}_Performance.csv\")   \n",
    "SupplyEvalDF_all.to_csv(f\"{path_save_data}/{model_name}_Supply_Performance.csv\")\n"
   ]
  },
  {
   "cell_type": "code",
   "execution_count": 13,
   "id": "221bbb05-3daa-4c5e-a3f2-3edd4d517187",
   "metadata": {},
   "outputs": [
    {
     "name": "stdout",
     "output_type": "stream",
     "text": [
      "Model Performance for Daily cfs\n"
     ]
    },
    {
     "ename": "NameError",
     "evalue": "name 'EvalDF_all' is not defined",
     "output_type": "error",
     "traceback": [
      "\u001b[0;31m---------------------------------------------------------------------------\u001b[0m",
      "\u001b[0;31mNameError\u001b[0m                                 Traceback (most recent call last)",
      "Cell \u001b[0;32mIn[13], line 2\u001b[0m\n\u001b[1;32m      1\u001b[0m \u001b[38;5;28mprint\u001b[39m(\u001b[38;5;124m\"\u001b[39m\u001b[38;5;124mModel Performance for Daily cfs\u001b[39m\u001b[38;5;124m\"\u001b[39m)\n\u001b[0;32m----> 2\u001b[0m display(\u001b[43mEvalDF_all\u001b[49m)   \n\u001b[1;32m      3\u001b[0m \u001b[38;5;28mprint\u001b[39m(\u001b[38;5;124m\"\u001b[39m\u001b[38;5;124mModel Performance for Daily Accumulated Supply (Acre-Feet)\u001b[39m\u001b[38;5;124m\"\u001b[39m)\n\u001b[1;32m      4\u001b[0m display(SupplyEvalDF_all)\n",
      "\u001b[0;31mNameError\u001b[0m: name 'EvalDF_all' is not defined"
     ]
    }
   ],
   "source": [
    "print(\"Model Performance for Daily cfs\")\n",
    "display(EvalDF_all)   \n",
    "print(\"Model Performance for Daily Accumulated Supply (Acre-Feet)\")\n",
    "display(SupplyEvalDF_all)\n"
   ]
  },
  {
   "cell_type": "code",
   "execution_count": 14,
   "id": "c4bcfcfc-19d3-475b-91ee-b3a4a3fb784b",
   "metadata": {
    "tags": []
   },
   "outputs": [
    {
     "ename": "NameError",
     "evalue": "name 'SitesDict' is not defined",
     "output_type": "error",
     "traceback": [
      "\u001b[0;31m---------------------------------------------------------------------------\u001b[0m",
      "\u001b[0;31mNameError\u001b[0m                                 Traceback (most recent call last)",
      "Cell \u001b[0;32mIn[14], line 6\u001b[0m\n\u001b[1;32m      4\u001b[0m title \u001b[38;5;241m=\u001b[39m \u001b[38;5;124m'\u001b[39m\u001b[38;5;124mObserved and Modeled flows for NHDPlus Reaches \u001b[39m\u001b[38;5;130;01m\\n\u001b[39;00m\u001b[38;5;124m with Upstream Reservoirs in the Great Salt Lake Basin\u001b[39m\u001b[38;5;124m'\u001b[39m\n\u001b[1;32m      5\u001b[0m path_figure_1 \u001b[38;5;241m=\u001b[39m \u001b[38;5;124mf\u001b[39m\u001b[38;5;124m\"\u001b[39m\u001b[38;5;132;01m{\u001b[39;00mpath_save_figure\u001b[38;5;132;01m}\u001b[39;00m\u001b[38;5;124m/\u001b[39m\u001b[38;5;132;01m{\u001b[39;00mplotname\u001b[38;5;132;01m}\u001b[39;00m\u001b[38;5;124m.png\u001b[39m\u001b[38;5;124m\"\u001b[39m\n\u001b[0;32m----> 6\u001b[0m s_FigureGenerator\u001b[38;5;241m.\u001b[39mTS_plot(\u001b[43mSitesDict\u001b[49m, model_name, path_figure_1, title, freq, supply)\n",
      "\u001b[0;31mNameError\u001b[0m: name 'SitesDict' is not defined"
     ]
    }
   ],
   "source": [
    "plotname = 'XGBoost_TS_plot'\n",
    "freq = 'D'\n",
    "supply = True\n",
    "title = 'Observed and Modeled flows for NHDPlus Reaches \\n with Upstream Reservoirs in the Great Salt Lake Basin'\n",
    "path_figure_1 = f\"{path_save_figure}/{plotname}.png\"\n",
    "s_FigureGenerator.TS_plot(SitesDict, model_name, path_figure_1, title, freq, supply)"
   ]
  },
  {
   "cell_type": "code",
   "execution_count": null,
   "id": "08b619a5-c217-4a22-a585-f72253c102f6",
   "metadata": {},
   "outputs": [],
   "source": [
    "plotname = 'XGBoost_ParityPlot'\n",
    "path_figure_2 = f\"{path_save_figure}/{plotname}.png\"\n",
    "s_FigureGenerator.Parity_plot(SitesDict, model_name, path_figure_2)"
   ]
  },
  {
   "cell_type": "code",
   "execution_count": null,
   "id": "a8895322-be49-45ef-9d4b-142bf815e927",
   "metadata": {},
   "outputs": [],
   "source": [
    "reach = 10273232\n",
    "variables =['NWM_flow', 'flow_cfs']\n",
    "colors = ['blue', 'green']\n",
    "plotname = 'NWMFlow'\n",
    "path_figure_3 = f\"{path_save_figure}/{plotname}.png\"\n",
    "units = 'cfs'\n",
    "y_lab = f\"Flow ({units})\"\n",
    "title = f\"Daily NWM Estimates \\n Reach: {str(reach)}\"\n",
    "\n",
    "s_FigureGenerator.Var_TS_plot(best_output, reach, variables, colors, model_name,y_lab, path_figure_3, title, units, supply = False)"
   ]
  },
  {
   "cell_type": "code",
   "execution_count": null,
   "id": "c8afa700-382c-4225-b268-b4dfd7f73152",
   "metadata": {},
   "outputs": [],
   "source": []
  },
  {
   "cell_type": "code",
   "execution_count": null,
   "id": "bdfd0889-6deb-48bb-a9a6-eeb836198151",
   "metadata": {},
   "outputs": [],
   "source": []
  },
  {
   "cell_type": "code",
   "execution_count": null,
   "id": "19579357-f6c9-4378-a80f-63c5da7a3b5f",
   "metadata": {
    "tags": []
   },
   "outputs": [],
   "source": [
    "import AWS_transfer\n",
    "state = 'ut'\n",
    "AWS_transfer.Predictions2AWS(model_name, state)"
   ]
  },
  {
   "cell_type": "code",
   "execution_count": null,
   "id": "64ae1451-be49-4bf0-9502-848c20c13091",
   "metadata": {},
   "outputs": [],
   "source": []
  }
 ],
 "metadata": {
  "kernelspec": {
   "display_name": "NWMML_env",
   "language": "python",
   "name": "nwmml_env"
  },
  "language_info": {
   "codemirror_mode": {
    "name": "ipython",
    "version": 3
   },
   "file_extension": ".py",
   "mimetype": "text/x-python",
   "name": "python",
   "nbconvert_exporter": "python",
   "pygments_lexer": "ipython3",
   "version": "3.9.12"
  }
 },
 "nbformat": 4,
 "nbformat_minor": 5
}
