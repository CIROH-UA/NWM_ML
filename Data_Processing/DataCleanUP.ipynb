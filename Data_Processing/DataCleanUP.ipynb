{
 "cells": [
  {
   "cell_type": "code",
   "execution_count": 1,
   "metadata": {},
   "outputs": [],
   "source": [
    "#Shared/Utility scripts\n",
    "import pandas as pd\n",
    "import numpy as np\n",
    "import pyarrow as pa\n",
    "import pyarrow.parquet as pq\n",
    "import os\n",
    "import pathlib\n",
    "import glob\n",
    "import boto3\n",
    "\n",
    "import sys\n",
    "sys.path.insert(0, '..') #sys allows for the .ipynb file to connect to the shared folder files\n",
    "from shared_scripts import AWS_transfer\n",
    "\n",
    "HOME = os.path.expanduser('~')\n",
    "KEYPATH = \"NWM_ML/AWSaccessKeys.csv\"\n",
    "ACCESS = pd.read_csv(f\"{HOME}/{KEYPATH}\")\n",
    "\n",
    "#start session\n",
    "SESSION = boto3.Session(\n",
    "    aws_access_key_id=ACCESS['Access key ID'][0],\n",
    "    aws_secret_access_key=ACCESS['Secret access key'][0],\n",
    ")\n",
    "S3 = SESSION.resource('s3')\n",
    "#AWS BUCKET information\n",
    "BUCKET_NAME = 'streamflow-app-data'\n",
    "BUCKET = S3.Bucket(BUCKET_NAME)\n"
   ]
  },
  {
   "cell_type": "code",
   "execution_count": 4,
   "metadata": {},
   "outputs": [
    {
     "data": {
      "text/plain": [
       "s3.Bucket(name='streamflow-app-data')"
      ]
     },
     "execution_count": 4,
     "metadata": {},
     "output_type": "execute_result"
    }
   ],
   "source": [
    "BUCKET"
   ]
  },
  {
   "cell_type": "code",
   "execution_count": 24,
   "metadata": {},
   "outputs": [
    {
     "data": {
      "text/plain": [
       "[PosixPath('/home/rjohnson18/NWM_ML/Data/Processed/Precip_Total.pkl'),\n",
       " PosixPath('/home/rjohnson18/NWM_ML/Data/Processed/Temperature.pkl'),\n",
       " PosixPath('/home/rjohnson18/NWM_ML/Data/Processed/flow.pkl')]"
      ]
     },
     "execution_count": 24,
     "metadata": {},
     "output_type": "execute_result"
    }
   ],
   "source": [
    "#Need to load all csvs from a folder, convert to parquet, send to appropriate folder in AWS\n",
    "path = f\"{HOME}/NWM_ML/Data/Processed\"\n",
    "files = list(pathlib.Path(path).glob('*.pkl'))\n",
    "files"
   ]
  },
  {
   "cell_type": "code",
   "execution_count": 23,
   "metadata": {},
   "outputs": [
    {
     "name": "stdout",
     "output_type": "stream",
     "text": [
      "/home/rjohnson18/NWM_ML/Data/Processed/Climate.parquet\n",
      "/home/rjohnson18/NWM_ML/Data/Processed/NWM_ML_Pred_DF1.parquet\n",
      "/home/rjohnson18/NWM_ML/Data/Processed/NWM_ML_Training_DF.parquet\n",
      "/home/rjohnson18/NWM_ML/Data/Processed/raw_training_data.parquet\n",
      "/home/rjohnson18/NWM_ML/Data/Processed/Pred_DF1.parquet\n",
      "/home/rjohnson18/NWM_ML/Data/Processed/StreamStats_All.parquet\n",
      "/home/rjohnson18/NWM_ML/Data/Processed/Training_DF1.parquet\n",
      "/home/rjohnson18/NWM_ML/Data/Processed/Training_DF2.parquet\n"
     ]
    }
   ],
   "source": [
    "#for excell files\n",
    "for file in files:\n",
    "    newfile = f\"{file.stem}.parquet\"\n",
    "    newfilepath = f\"{path}/{newfile}\"\n",
    "    print(newfilepath)\n",
    "    try:\n",
    "        f = pd.read_csv(file)\n",
    "    except:\n",
    "        f = pd.read_excel(file)\n",
    "    table = pa.Table.from_pandas(f)\n",
    "    pq.write_table(table,newfilepath, compression='BROTLI')\n",
    "\n",
    "    #send to aws\n",
    "    AWSpath = f\"NWM_ML{path.split('NWM_ML')[-1].split('.')[0]}\"\n",
    "    S3.meta.client.upload_file(Filename= newfilepath, Bucket=BUCKET_NAME, Key=f\"{AWSpath}/{newfile}\")\n",
    "    "
   ]
  },
  {
   "cell_type": "code",
   "execution_count": 28,
   "metadata": {},
   "outputs": [],
   "source": [
    "#send to aws - non parquet\n",
    "for file in files:\n",
    "    newfile = f\"{file.stem}.pkl\"\n",
    "    AWSpath = f\"NWM_ML{path.split('NWM_ML')[-1].split('.')[0]}\"\n",
    "    S3.meta.client.upload_file(Filename= file, Bucket=BUCKET_NAME, Key=f\"{AWSpath}/{newfile}\")"
   ]
  },
  {
   "cell_type": "code",
   "execution_count": 21,
   "metadata": {},
   "outputs": [
    {
     "data": {
      "text/plain": [
       "'stream_stats.parquet'"
      ]
     },
     "execution_count": 21,
     "metadata": {},
     "output_type": "execute_result"
    }
   ],
   "source": [
    "newfile"
   ]
  },
  {
   "cell_type": "code",
   "execution_count": null,
   "metadata": {},
   "outputs": [],
   "source": []
  }
 ],
 "metadata": {
  "kernelspec": {
   "display_name": "PyTorch_GPU_env",
   "language": "python",
   "name": "python3"
  },
  "language_info": {
   "codemirror_mode": {
    "name": "ipython",
    "version": 3
   },
   "file_extension": ".py",
   "mimetype": "text/x-python",
   "name": "python",
   "nbconvert_exporter": "python",
   "pygments_lexer": "ipython3",
   "version": "3.11.7"
  }
 },
 "nbformat": 4,
 "nbformat_minor": 2
}
